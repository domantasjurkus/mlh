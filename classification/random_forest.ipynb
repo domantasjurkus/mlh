{
 "cells": [
  {
   "cell_type": "code",
   "execution_count": 5,
   "metadata": {},
   "outputs": [
    {
     "name": "stdout",
     "output_type": "stream",
     "text": [
      "Predictions saved\n"
     ]
    }
   ],
   "source": [
    "import numpy as np\n",
    "import scipy\n",
    "from scipy import stats\n",
    "from sklearn.ensemble import RandomForestClassifier\n",
    "\n",
    "trainX = np.loadtxt('X_train.csv', delimiter=',', skiprows=1)\n",
    "traint = np.loadtxt('y_train.csv', delimiter=',', skiprows=1)\n",
    "traint = traint[:,1][:,None]-1\n",
    "testX = np.loadtxt('X_test.csv', delimiter=',', skiprows=1)\n",
    "\n",
    "def get_sk_model(trainX, traint):\n",
    "    clf = RandomForestClassifier()\n",
    "    model = clf.fit(trainX, traint.ravel())\n",
    "    return model\n",
    "\n",
    "def filter_by_variance(trainX, keep_count=10):\n",
    "    sample_count = trainX.shape[0]\n",
    "    feature_count = trainX.shape[1]\n",
    "    variances = np.zeros(feature_count)\n",
    "    \n",
    "    # Find variance of each feature\n",
    "    for i in range(feature_count):\n",
    "        feature = trainX.T[i]\n",
    "        variance = np.var(feature)\n",
    "        variances[i] = variance    \n",
    "    \n",
    "    features_by_variance = variances.argsort()[:keep_count]\n",
    "\n",
    "    newX = np.zeros((sample_count, keep_count))\n",
    "    for i in range(keep_count):\n",
    "        newX[:,i] = trainX[:,features_by_variance[i]]\n",
    "\n",
    "    return newX, features_by_variance\n",
    "\n",
    "def save_predictions(predictions, filename=\"predictions_forest.csv\"):\n",
    "    N = predictions.shape[0]\n",
    "    output = np.ones((N, 2))\n",
    "    output[:,0] = range(N)\n",
    "    output[:,1] = predictions.ravel()\n",
    "    np.savetxt(filename, output, fmt='%d', delimiter=\",\", header=\"Id,EpiOrStroma\")\n",
    "    print(\"Predictions saved\")\n",
    "\n",
    "# 22 is chosen as a heuristic\n",
    "trainX, top_feature_indices = filter_by_variance(trainX, 22)\n",
    "    \n",
    "model = get_sk_model(trainX, traint)\n",
    "\n",
    "# Select only top features if filtered\n",
    "testX = testX[:,top_feature_indices]\n",
    "preds = model.predict(testX)\n",
    "\n",
    "save_predictions(preds+1)"
   ]
  }
 ],
 "metadata": {
  "kernelspec": {
   "display_name": "Python 3",
   "language": "python",
   "name": "python3"
  },
  "language_info": {
   "codemirror_mode": {
    "name": "ipython",
    "version": 3
   },
   "file_extension": ".py",
   "mimetype": "text/x-python",
   "name": "python",
   "nbconvert_exporter": "python",
   "pygments_lexer": "ipython3",
   "version": "3.5.2"
  }
 },
 "nbformat": 4,
 "nbformat_minor": 2
}

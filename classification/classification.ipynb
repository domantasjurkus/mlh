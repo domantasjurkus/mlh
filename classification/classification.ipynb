{
 "cells": [
  {
   "cell_type": "code",
   "execution_count": 190,
   "metadata": {},
   "outputs": [
    {
     "name": "stderr",
     "output_type": "stream",
     "text": [
      "/home/dom/.local/lib/python3.5/site-packages/ipykernel_launcher.py:89: RuntimeWarning: overflow encountered in exp\n"
     ]
    },
    {
     "name": "stdout",
     "output_type": "stream",
     "text": [
      "Accuracy: 0.6399999999999999\n"
     ]
    }
   ],
   "source": [
    "import numpy as np\n",
    "import pylab as plt\n",
    "%matplotlib inline\n",
    "\n",
    "# Datum\n",
    "trainX = np.loadtxt('X_train.csv', delimiter=',', skiprows=1)\n",
    "traint = np.loadtxt('y_train.csv', delimiter=',', skiprows=1)\n",
    "traint = traint[:,1][:,None]\n",
    "#print(\"Train X shape:\", trainX.shape)\n",
    "#print(\"Train t shape:\", traint.shape)\n",
    "\n",
    "def random_classifier():\n",
    "    return np.random.randint(1,2+1)\n",
    "\n",
    "def cv(trainX, traint, folds=10, K=2):\n",
    "    slice_size = int(trainX.shape[0]/folds)\n",
    "    total_accuracy = 0\n",
    "    \n",
    "    for i in range(folds):\n",
    "        split_start = slice_size * i\n",
    "        split_end = slice_size * (i+1)\n",
    "        cv_training_X = np.concatenate((trainX[:split_start], trainX[split_end:]))\n",
    "        cv_training_t = np.concatenate((traint[:split_start], traint[split_end:]))\n",
    "        cv_testing_X = trainX[split_start:split_end]\n",
    "        cv_testing_t = traint[split_start:split_end]\n",
    "        \n",
    "        # Logit\n",
    "        w_nr = get_nr_weights(trainX, traint)\n",
    "        \n",
    "        hits = 0\n",
    "        for j in range(slice_size):\n",
    "            \n",
    "            #\n",
    "            # Pick classifier here\n",
    "            #\n",
    "            #c = knn_classifier(cv_training_X, cv_training_t, cv_testing_X[j,:], K)\n",
    "            c = logit_classifier(w_nr, cv_testing_X[j,:])\n",
    "            #c = random_classifier()\n",
    "            \n",
    "            if (c == cv_testing_t[j]):\n",
    "                hits += 1\n",
    "        accuracy = hits/cv_testing_t.shape[0]\n",
    "        #print(\"Iteration and accuracy:\", i, accuracy)\n",
    "        total_accuracy += accuracy\n",
    "    \n",
    "    total_accuracy /= folds\n",
    "    return total_accuracy\n",
    "    \n",
    "\n",
    "def knn_classifier(trainX, traint, testrow, K=2):\n",
    "    distances = ((trainX - testrow)**2).sum(axis=1)\n",
    "    dc = zip(distances,traint)\n",
    "    dc = sorted(dc,key = lambda x:x[0])\n",
    "    classes = []\n",
    "    votes = []\n",
    "    for k in range(K):\n",
    "        this_class = dc[k][1] # get the class of the kth ranked\n",
    "        if not this_class in classes:\n",
    "            classes.append(this_class)\n",
    "            votes.append(1)\n",
    "        else:\n",
    "            index = classes.index(this_class)\n",
    "            votes[index] += 1\n",
    "    best_class = classes[0]\n",
    "    best_vote = votes[0]\n",
    "    pos = 1\n",
    "    for cl in classes[1:]:\n",
    "        if votes[pos] > best_vote:\n",
    "            best_vote = votes[pos]\n",
    "            best_class = cl\n",
    "        pos += 1\n",
    "    return best_class\n",
    "\n",
    "def main_knn():\n",
    "    Ks = np.arange(1,10,1)\n",
    "    for k in Ks:\n",
    "        accuracy = cv(trainX, traint, 10, k)\n",
    "        print(\"K and accuracy:\", k, accuracy)\n",
    "        \n",
    "# Newton Rhapson\n",
    "def get_nr_weights(trainx, traint, n_its=20):   \n",
    "    w_count = trainx.shape[1]\n",
    "    w = np.zeros((w_count,1))\n",
    "    dx = np.diag(np.dot(trainx, trainx.T))[:,None]\n",
    "    allw = np.zeros((w_count, n_its))\n",
    "\n",
    "    for i in range(n_its):\n",
    "        allw[:,i] = w.flatten()\n",
    "        P = 1.0/(1.0 + np.exp(-np.dot(trainx, w)))\n",
    "        gw = -w + np.sum(trainx*np.tile(traint-P, (1,w_count)), axis=0)[:,None]\n",
    "        temp = trainx*np.tile(P*(1-P), (1,w_count))\n",
    "\n",
    "        hw = -np.eye(w_count) - np.dot(temp.T,trainx)   \n",
    "        w = w - np.dot(np.linalg.inv(hw),gw)\n",
    "\n",
    "    return w\n",
    "\n",
    "def sigmoid(testrow, w):\n",
    "    return 1.0/(1.0 + np.exp(-np.dot(testrow, w)))\n",
    "\n",
    "def logit_classifier(w, testrow):\n",
    "    c = sigmoid(testrow, w)\n",
    "    #return c\n",
    "    if c == 2:\n",
    "        return 1\n",
    "    return 2\n",
    "\n",
    "def main_logit():\n",
    "    accuracy = cv(trainX, traint, 10)\n",
    "    print(\"Accuracy:\", accuracy)\n",
    "\n",
    "# Choose one\n",
    "#main_knn()\n",
    "#main_logit()"
   ]
  },
  {
   "cell_type": "code",
   "execution_count": 162,
   "metadata": {},
   "outputs": [
    {
     "name": "stderr",
     "output_type": "stream",
     "text": [
      "/home/dom/.local/lib/python3.5/site-packages/ipykernel_launcher.py:92: RuntimeWarning: overflow encountered in exp\n"
     ]
    },
    {
     "name": "stdout",
     "output_type": "stream",
     "text": [
      "(1596, 112)\n",
      "(1596,)\n"
     ]
    }
   ],
   "source": [
    "# Submit, lol\n",
    "w_nr = get_nr_weights(trainX, traint)\n",
    "\n",
    "testdata = np.loadtxt('X_test.csv', delimiter=',', skiprows=1)\n",
    "print(testdata.shape)\n",
    "\n",
    "predictions = np.dot(testdata, w_nr).flatten()\n",
    "print(predictions.shape)\n",
    "\n",
    "pred = np.ones((N, 2))\n",
    "pred[:,0] = range(N)\n",
    "pred[:,1] = predictions\n",
    "np.savetxt('pred_classification.csv', pred, fmt='%d', delimiter=\",\", header=\"Id,PRP\", comments=\"\")"
   ]
  }
 ],
 "metadata": {
  "kernelspec": {
   "display_name": "Python 3",
   "language": "python",
   "name": "python3"
  },
  "language_info": {
   "codemirror_mode": {
    "name": "ipython",
    "version": 3
   },
   "file_extension": ".py",
   "mimetype": "text/x-python",
   "name": "python",
   "nbconvert_exporter": "python",
   "pygments_lexer": "ipython3",
   "version": "3.5.2"
  }
 },
 "nbformat": 4,
 "nbformat_minor": 2
}

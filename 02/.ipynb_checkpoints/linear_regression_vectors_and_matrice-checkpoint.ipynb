{
 "cells": [
  {
   "cell_type": "code",
   "execution_count": 1,
   "metadata": {},
   "outputs": [],
   "source": [
    "from IPython.display import IFrame\n",
    "import pylab as plt\n",
    "%matplotlib inline\n",
    "import urllib\n",
    "# You only need this line if you haven't cloned the repo...if you have cloned, you'll already have the data\n",
    "# urllib.urlretrieve('https://raw.githubusercontent.com/sdrogers/fcmlcode/master/notebooks/data/olympic100m.txt', 'olympic100m.txt')\n",
    "import numpy as np\n",
    "# If you have cloned, make sure this is pointing to the correct file, maybe ../data/olympic100m.txt ?\n",
    "data = np.loadtxt('../olympic100m.txt',delimiter=',')\n",
    "x = data[:,0][:,None]\n",
    "t = data[:,1][:,None]"
   ]
  },
  {
   "cell_type": "markdown",
   "metadata": {},
   "source": [
    "## Linear and Polynomial regression in vector and matrix format\n",
    "\n",
    "In the previous notebook we derived the values of $w_0$ and $w_1$ that minimised the loss. If we modified our model to have a quadratic term:\n",
    "\n",
    "$$ t_n = w_0 + w_1x_n + w_2x_n $$\n",
    "\n",
    "resulting in more exciting bendy lines, we could do the same process:\n",
    "\n",
    " - Multiply out the squared loss\n",
    " - Differentiate with respect to $w_0$, $w_1$ and $w_2$\n",
    " - Set to zero\n",
    " - Solve the resulting 3 simultaneous equations\n",
    " \n",
    "Life is too short for this. So, we re-pose the problem using *vectors* and *matrices*"
   ]
  },
  {
   "cell_type": "markdown",
   "metadata": {},
   "source": [
    "## Definitions\n",
    "\n",
    "We'll start with the linear model again, and define the following:\n",
    "\n",
    "We first define $\\mathbf{w},\\mathbf{x}_n$ as:\n",
    "\n",
    "$$ \\mathbf{w} = \\left[\\begin{array}{c} w_0\\\\w_1\\end{array}\\right],~~\\mathbf{x}_n = \\left[\\begin{array}{c} 1 \\\\ x_n \\end{array}\\right] $$\n",
    "\n",
    "and:\n",
    "\n",
    "$$ \\mathbf{t} = \\left[\\begin{array}{c} t_1\\\\ t_2\\\\ \\vdots\\\\ t_N \\end{array}\\right] $$\n",
    "\n",
    "and:\n",
    "\n",
    "$$ \\mathbf{X} = \\left[\\begin{array}{c} \\mathbf{x}_1^T \\\\ \\mathbf{x}_2^T \\\\ \\vdots \\\\ \\mathbf{x}_N^T \\end{array}\\right] = \\left[ \\begin{array}{cc} 1 & x_1 \\\\ 1 & x_2 \\\\ \\vdots \\\\ 1 & x_N \\end{array}\\right] $$\n",
    "\n",
    "This might all seem a bit odd (particularly the $\\mathbf{X}$), but as you see in the lecture, it means we can write:\n",
    "\n",
    "$$ \\mathbf{t} = \\mathbf{X}\\mathbf{w} $$\n",
    "\n",
    "and \n",
    "\n",
    "$$ L = \\frac{1}{N}(\\mathbf{t} - \\mathbf{X}\\mathbf{w})^T (\\mathbf{t} - \\mathbf{X}\\mathbf{w}) $$\n",
    "\n",
    "which can be differentiated with respect to $\\mathbf{w}$ (as shown in lectures and sketched below) to give the following optimal value of $\\mathbf{w}$:\n",
    "\n",
    "$$ \\mathbf{w} = \\left(\\mathbf{X}^T\\mathbf{X}\\right)^{-1}\\mathbf{X}^T\\mathbf{t} $$"
   ]
  },
  {
   "cell_type": "markdown",
   "metadata": {},
   "source": [
    "We can now construct the various objects we need..."
   ]
  },
  {
   "cell_type": "code",
   "execution_count": 2,
   "metadata": {},
   "outputs": [],
   "source": [
    "X = np.hstack((np.ones_like(x),x))\n",
    "t = t # This is already a vector!"
   ]
  },
  {
   "cell_type": "markdown",
   "metadata": {},
   "source": [
    "And compute $\\mathbf{w}$:\n",
    "Hints: \n",
    "   1. calculate $ \\mathbf{X}^T\\mathbf{X} $  and inverse it. \n",
    "   2. calculate $ \\mathbf{X}^T\\mathbf{t} $\n",
    "   \n",
    "Now you'll have what you need for calculating $\\mathbf{w}$\n"
   ]
  },
  {
   "cell_type": "code",
   "execution_count": 3,
   "metadata": {},
   "outputs": [
    {
     "name": "stdout",
     "output_type": "stream",
     "text": [
      "[[ 3.64164559e+01]\n",
      " [-1.33308857e-02]]\n"
     ]
    }
   ],
   "source": [
    "XX = np.dot(X.T,X)\n",
    "invXX = np.linalg.inv(XX)\n",
    "Xt = np.dot(X.T,t)\n",
    "w = np.dot(invXX,Xt)\n",
    "print(w)"
   ]
  },
  {
   "cell_type": "markdown",
   "metadata": {},
   "source": [
    "Now we can print the results. To do so, we need to create a matrix of test points in the same format as $\\mathbf{X}$ above (people often get stuck here, see if you can tackle it!)"
   ]
  },
  {
   "cell_type": "code",
   "execution_count": 4,
   "metadata": {},
   "outputs": [],
   "source": [
    "testx = np.linspace(1896,2008,100)[:,None]\n",
    "testX = np.hstack((np.ones_like(testx),testx))\n",
    "testt = np.dot(testX,w)"
   ]
  },
  {
   "cell_type": "code",
   "execution_count": 5,
   "metadata": {},
   "outputs": [
    {
     "data": {
      "text/plain": [
       "[<matplotlib.lines.Line2D at 0x7fdb15e44d68>]"
      ]
     },
     "execution_count": 5,
     "metadata": {},
     "output_type": "execute_result"
    },
    {
     "data": {
      "image/png": "[encoded data removed]",
      "text/plain": [
       "<matplotlib.figure.Figure at 0x7fdb3d50e0b8>"
      ]
     },
     "metadata": {},
     "output_type": "display_data"
    }
   ],
   "source": [
    "plt.figure()\n",
    "plt.plot(x,t,'ro')\n",
    "plt.plot(testx,testt,'y')"
   ]
  },
  {
   "cell_type": "markdown",
   "metadata": {},
   "source": [
    "Phew again -- it looks just like the old version. So, what's the point?\n",
    "\n"
   ]
  },
  {
   "cell_type": "markdown",
   "metadata": {},
   "source": [
    "## Polynomial (non-linear) regression - HOW?\n",
    "\n",
    "Well, to add, say, an $x^2$ term we just need to add a column to $\\mathbf{X}$ (and the test version):\n",
    "\n",
    "$$ \\mathbf{x}_n = \\left[\\begin{array}{c} 1 \\\\ x_n \\\\ x_n^2 \\end{array}\\right] $$\n",
    "\n",
    "$$ \\mathbf{X} = \\left[ \\begin{array}{c} \\mathbf{x}_1 \\\\ \\mathbf{x}_2 \\\\ \\vdots \\\\ \\mathbf{x}_N\\end{array}\\right] = \\left[ \\begin{array}{ccc} 1 & x_1 & x_1^2 \\\\ 1 & x_2 & x_2^2 \\\\ \\vdots & \\vdots & \\vdots \\\\ 1 & x_N & x_N^2 \\end{array}\\right] $$\n",
    "\n",
    "The equation for $\\mathbf{w}$ doesn't change **at all**:"
   ]
  },
  {
   "cell_type": "code",
   "execution_count": 15,
   "metadata": {},
   "outputs": [
    {
     "name": "stdout",
     "output_type": "stream",
     "text": [
      "(3, 27) (27, 1)\n",
      "[[ 4.55597857e+02]\n",
      " [-4.43160486e-01]\n",
      " [ 1.10151552e-04]]\n"
     ]
    }
   ],
   "source": [
    "# Training\n",
    "X = np.hstack((np.ones_like(x),x,x**2))\n",
    "XX = np.dot(X.T,X)\n",
    "invXX = np.linalg.inv(XX)\n",
    "Xt = np.dot(X.T,t)\n",
    "w = np.dot(invXX,Xt)\n",
    "print(w)"
   ]
  },
  {
   "cell_type": "code",
   "execution_count": 7,
   "metadata": {},
   "outputs": [
    {
     "name": "stdout",
     "output_type": "stream",
     "text": [
      "[[1.00000000e+00 1.89600000e+03 3.59481600e+06]\n",
      " [1.00000000e+00 1.89713131e+03 3.59910722e+06]\n",
      " [1.00000000e+00 1.89826263e+03 3.60340100e+06]\n",
      " [1.00000000e+00 1.89939394e+03 3.60769734e+06]\n",
      " [1.00000000e+00 1.90052525e+03 3.61199624e+06]\n",
      " [1.00000000e+00 1.90165657e+03 3.61629769e+06]\n",
      " [1.00000000e+00 1.90278788e+03 3.62060171e+06]\n",
      " [1.00000000e+00 1.90391919e+03 3.62490829e+06]\n",
      " [1.00000000e+00 1.90505051e+03 3.62921743e+06]\n",
      " [1.00000000e+00 1.90618182e+03 3.63352912e+06]\n",
      " [1.00000000e+00 1.90731313e+03 3.63784338e+06]\n",
      " [1.00000000e+00 1.90844444e+03 3.64216020e+06]\n",
      " [1.00000000e+00 1.90957576e+03 3.64647957e+06]\n",
      " [1.00000000e+00 1.91070707e+03 3.65080151e+06]\n",
      " [1.00000000e+00 1.91183838e+03 3.65512601e+06]\n",
      " [1.00000000e+00 1.91296970e+03 3.65945306e+06]\n",
      " [1.00000000e+00 1.91410101e+03 3.66378268e+06]\n",
      " [1.00000000e+00 1.91523232e+03 3.66811485e+06]\n",
      " [1.00000000e+00 1.91636364e+03 3.67244959e+06]\n",
      " [1.00000000e+00 1.91749495e+03 3.67678688e+06]\n",
      " [1.00000000e+00 1.91862626e+03 3.68112674e+06]\n",
      " [1.00000000e+00 1.91975758e+03 3.68546915e+06]\n",
      " [1.00000000e+00 1.92088889e+03 3.68981412e+06]\n",
      " [1.00000000e+00 1.92202020e+03 3.69416166e+06]\n",
      " [1.00000000e+00 1.92315152e+03 3.69851175e+06]\n",
      " [1.00000000e+00 1.92428283e+03 3.70286440e+06]\n",
      " [1.00000000e+00 1.92541414e+03 3.70721962e+06]\n",
      " [1.00000000e+00 1.92654545e+03 3.71157739e+06]\n",
      " [1.00000000e+00 1.92767677e+03 3.71593772e+06]\n",
      " [1.00000000e+00 1.92880808e+03 3.72030061e+06]\n",
      " [1.00000000e+00 1.92993939e+03 3.72466606e+06]\n",
      " [1.00000000e+00 1.93107071e+03 3.72903408e+06]\n",
      " [1.00000000e+00 1.93220202e+03 3.73340465e+06]\n",
      " [1.00000000e+00 1.93333333e+03 3.73777778e+06]\n",
      " [1.00000000e+00 1.93446465e+03 3.74215347e+06]\n",
      " [1.00000000e+00 1.93559596e+03 3.74653172e+06]\n",
      " [1.00000000e+00 1.93672727e+03 3.75091253e+06]\n",
      " [1.00000000e+00 1.93785859e+03 3.75529590e+06]\n",
      " [1.00000000e+00 1.93898990e+03 3.75968183e+06]\n",
      " [1.00000000e+00 1.94012121e+03 3.76407032e+06]\n",
      " [1.00000000e+00 1.94125253e+03 3.76846137e+06]\n",
      " [1.00000000e+00 1.94238384e+03 3.77285498e+06]\n",
      " [1.00000000e+00 1.94351515e+03 3.77725114e+06]\n",
      " [1.00000000e+00 1.94464646e+03 3.78164987e+06]\n",
      " [1.00000000e+00 1.94577778e+03 3.78605116e+06]\n",
      " [1.00000000e+00 1.94690909e+03 3.79045501e+06]\n",
      " [1.00000000e+00 1.94804040e+03 3.79486142e+06]\n",
      " [1.00000000e+00 1.94917172e+03 3.79927038e+06]\n",
      " [1.00000000e+00 1.95030303e+03 3.80368191e+06]\n",
      " [1.00000000e+00 1.95143434e+03 3.80809600e+06]\n",
      " [1.00000000e+00 1.95256566e+03 3.81251264e+06]\n",
      " [1.00000000e+00 1.95369697e+03 3.81693185e+06]\n",
      " [1.00000000e+00 1.95482828e+03 3.82135362e+06]\n",
      " [1.00000000e+00 1.95595960e+03 3.82577794e+06]\n",
      " [1.00000000e+00 1.95709091e+03 3.83020483e+06]\n",
      " [1.00000000e+00 1.95822222e+03 3.83463427e+06]\n",
      " [1.00000000e+00 1.95935354e+03 3.83906628e+06]\n",
      " [1.00000000e+00 1.96048485e+03 3.84350084e+06]\n",
      " [1.00000000e+00 1.96161616e+03 3.84793797e+06]\n",
      " [1.00000000e+00 1.96274747e+03 3.85237765e+06]\n",
      " [1.00000000e+00 1.96387879e+03 3.85681989e+06]\n",
      " [1.00000000e+00 1.96501010e+03 3.86126470e+06]\n",
      " [1.00000000e+00 1.96614141e+03 3.86571206e+06]\n",
      " [1.00000000e+00 1.96727273e+03 3.87016198e+06]\n",
      " [1.00000000e+00 1.96840404e+03 3.87461447e+06]\n",
      " [1.00000000e+00 1.96953535e+03 3.87906951e+06]\n",
      " [1.00000000e+00 1.97066667e+03 3.88352711e+06]\n",
      " [1.00000000e+00 1.97179798e+03 3.88798727e+06]\n",
      " [1.00000000e+00 1.97292929e+03 3.89244999e+06]\n",
      " [1.00000000e+00 1.97406061e+03 3.89691528e+06]\n",
      " [1.00000000e+00 1.97519192e+03 3.90138312e+06]\n",
      " [1.00000000e+00 1.97632323e+03 3.90585352e+06]\n",
      " [1.00000000e+00 1.97745455e+03 3.91032648e+06]\n",
      " [1.00000000e+00 1.97858586e+03 3.91480200e+06]\n",
      " [1.00000000e+00 1.97971717e+03 3.91928008e+06]\n",
      " [1.00000000e+00 1.98084848e+03 3.92376072e+06]\n",
      " [1.00000000e+00 1.98197980e+03 3.92824392e+06]\n",
      " [1.00000000e+00 1.98311111e+03 3.93272968e+06]\n",
      " [1.00000000e+00 1.98424242e+03 3.93721800e+06]\n",
      " [1.00000000e+00 1.98537374e+03 3.94170888e+06]\n",
      " [1.00000000e+00 1.98650505e+03 3.94620232e+06]\n",
      " [1.00000000e+00 1.98763636e+03 3.95069831e+06]\n",
      " [1.00000000e+00 1.98876768e+03 3.95519687e+06]\n",
      " [1.00000000e+00 1.98989899e+03 3.95969799e+06]\n",
      " [1.00000000e+00 1.99103030e+03 3.96420167e+06]\n",
      " [1.00000000e+00 1.99216162e+03 3.96870790e+06]\n",
      " [1.00000000e+00 1.99329293e+03 3.97321670e+06]\n",
      " [1.00000000e+00 1.99442424e+03 3.97772806e+06]\n",
      " [1.00000000e+00 1.99555556e+03 3.98224198e+06]\n",
      " [1.00000000e+00 1.99668687e+03 3.98675845e+06]\n",
      " [1.00000000e+00 1.99781818e+03 3.99127749e+06]\n",
      " [1.00000000e+00 1.99894949e+03 3.99579908e+06]\n",
      " [1.00000000e+00 2.00008081e+03 4.00032324e+06]\n",
      " [1.00000000e+00 2.00121212e+03 4.00484995e+06]\n",
      " [1.00000000e+00 2.00234343e+03 4.00937923e+06]\n",
      " [1.00000000e+00 2.00347475e+03 4.01391106e+06]\n",
      " [1.00000000e+00 2.00460606e+03 4.01844546e+06]\n",
      " [1.00000000e+00 2.00573737e+03 4.02298241e+06]\n",
      " [1.00000000e+00 2.00686869e+03 4.02752193e+06]\n",
      " [1.00000000e+00 2.00800000e+03 4.03206400e+06]]\n",
      "[[ 4.55597857e+02]\n",
      " [-4.43160486e-01]\n",
      " [ 1.10151552e-04]]\n",
      "[[11.34013666]\n",
      " [11.31146784]\n",
      " [11.28308099]\n",
      " [11.25497609]\n",
      " [11.22715315]\n",
      " [11.19961218]\n",
      " [11.17235316]\n",
      " [11.1453761 ]\n",
      " [11.118681  ]\n",
      " [11.09226785]\n",
      " [11.06613667]\n",
      " [11.04028745]\n",
      " [11.01472019]\n",
      " [10.98943488]\n",
      " [10.96443154]\n",
      " [10.93971015]\n",
      " [10.91527072]\n",
      " [10.89111326]\n",
      " [10.86723775]\n",
      " [10.8436442 ]\n",
      " [10.82033261]\n",
      " [10.79730298]\n",
      " [10.77455531]\n",
      " [10.75208959]\n",
      " [10.72990584]\n",
      " [10.70800405]\n",
      " [10.68638421]\n",
      " [10.66504634]\n",
      " [10.64399042]\n",
      " [10.62321646]\n",
      " [10.60272446]\n",
      " [10.58251442]\n",
      " [10.56258635]\n",
      " [10.54294022]\n",
      " [10.52357606]\n",
      " [10.50449386]\n",
      " [10.48569362]\n",
      " [10.46717534]\n",
      " [10.44893901]\n",
      " [10.43098465]\n",
      " [10.41331224]\n",
      " [10.39592179]\n",
      " [10.37881331]\n",
      " [10.36198678]\n",
      " [10.34544221]\n",
      " [10.3291796 ]\n",
      " [10.31319895]\n",
      " [10.29750026]\n",
      " [10.28208352]\n",
      " [10.26694875]\n",
      " [10.25209594]\n",
      " [10.23752508]\n",
      " [10.22323619]\n",
      " [10.20922925]\n",
      " [10.19550427]\n",
      " [10.18206125]\n",
      " [10.1689002 ]\n",
      " [10.1560211 ]\n",
      " [10.14342396]\n",
      " [10.13110877]\n",
      " [10.11907555]\n",
      " [10.10732429]\n",
      " [10.09585499]\n",
      " [10.08466764]\n",
      " [10.07376226]\n",
      " [10.06313883]\n",
      " [10.05279736]\n",
      " [10.04273786]\n",
      " [10.03296031]\n",
      " [10.02346472]\n",
      " [10.01425109]\n",
      " [10.00531942]\n",
      " [ 9.99666971]\n",
      " [ 9.98830195]\n",
      " [ 9.98021616]\n",
      " [ 9.97241233]\n",
      " [ 9.96489045]\n",
      " [ 9.95765054]\n",
      " [ 9.95069258]\n",
      " [ 9.94401658]\n",
      " [ 9.93762255]\n",
      " [ 9.93151047]\n",
      " [ 9.92568035]\n",
      " [ 9.92013219]\n",
      " [ 9.91486599]\n",
      " [ 9.90988174]\n",
      " [ 9.90517946]\n",
      " [ 9.90075914]\n",
      " [ 9.89662077]\n",
      " [ 9.89276437]\n",
      " [ 9.88918992]\n",
      " [ 9.88589744]\n",
      " [ 9.88288691]\n",
      " [ 9.88015834]\n",
      " [ 9.87771173]\n",
      " [ 9.87554708]\n",
      " [ 9.87366439]\n",
      " [ 9.87206366]\n",
      " [ 9.87074489]\n",
      " [ 9.86970807]]\n"
     ]
    }
   ],
   "source": [
    "testx = np.linspace(1896,2008,100)[:,None] # [:,None] adds an additional dimension\n",
    "testX = np.hstack((np.ones_like(testx),testx,testx**2))\n",
    "print(testX)\n",
    "print(w)\n",
    "testt = np.dot(testX,w)\n",
    "print(testt)"
   ]
  },
  {
   "cell_type": "markdown",
   "metadata": {},
   "source": [
    "Now let's see how it changes!"
   ]
  },
  {
   "cell_type": "code",
   "execution_count": 16,
   "metadata": {},
   "outputs": [
    {
     "data": {
      "text/plain": [
       "[<matplotlib.lines.Line2D at 0x7f9e45e84da0>]"
      ]
     },
     "execution_count": 16,
     "metadata": {},
     "output_type": "execute_result"
    },
    {
     "data": {
      "image/png": "[encoded data removed]",
      "text/plain": [
       "<matplotlib.figure.Figure at 0x7f9e45e5dcf8>"
      ]
     },
     "metadata": {},
     "output_type": "display_data"
    }
   ],
   "source": [
    "plt.figure()\n",
    "plt.plot(x,t,'ro')\n",
    "plt.plot(testx,testt,'b')"
   ]
  },
  {
   "cell_type": "markdown",
   "metadata": {},
   "source": [
    "Bendy!"
   ]
  },
  {
   "cell_type": "markdown",
   "metadata": {
    "collapsed": true
   },
   "source": [
    "### Appendix: solving linear systems"
   ]
  },
  {
   "cell_type": "markdown",
   "metadata": {},
   "source": [
    "Our expression for the optimal value of $\\mathbf{w}$ is:\n",
    "\n",
    "$$ \\mathbf{w} = \\left(\\mathbf{X}^T\\mathbf{X}\\right)^{-1}\\mathbf{X}^T\\mathbf{t} $$\n",
    "\n",
    "Above, we have computed this by writing code to compute the right hand side. This involves performing a matrix inversion *which is almost always something to avoid* (as the matrix gets bigger, this becomes time consuming and numerically innacurate).\n",
    "\n",
    "Instead, we can go back a step to this equation:\n",
    "\n",
    "$$ \\mathbf{X}^T\\mathbf{X}\\mathbf{w} = \\mathbf{X}^T \\mathbf{t} $$\n",
    "\n",
    "This is a system of linear equations (in general: $\\mathbf{A}\\mathbf{z} = \\mathbf{B}$) and we can solve this directly for $\\mathbf{w}$ using `numpy.linalg.solve`:"
   ]
  },
  {
   "cell_type": "code",
   "execution_count": 17,
   "metadata": {},
   "outputs": [
    {
     "name": "stdout",
     "output_type": "stream",
     "text": [
      "[[11.11676486]\n",
      " [-0.05262998]\n",
      " [ 0.07820933]]\n"
     ]
    }
   ],
   "source": [
    "XX = np.dot(X.T,X)\n",
    "Xt = np.dot(X.T,t)\n",
    "w = np.linalg.solve(XX,Xt)\n",
    "print(w)"
   ]
  },
  {
   "cell_type": "markdown",
   "metadata": {},
   "source": [
    "For this system, it doesn't make any difference, but you don't have to get much bigger to see a difference.\n",
    "And later we can start doing polynomial regression!"
   ]
  },
  {
   "cell_type": "markdown",
   "metadata": {},
   "source": [
    "Now, how to make the code listen to you can get however order you want?\n",
    "\n",
    "Simply a loop!\n",
    "\n",
    "(but we first need to rescale the x...)"
   ]
  },
  {
   "cell_type": "code",
   "execution_count": 23,
   "metadata": {},
   "outputs": [],
   "source": [
    "x2 = (x-1896)/4"
   ]
  },
  {
   "cell_type": "code",
   "execution_count": 19,
   "metadata": {},
   "outputs": [],
   "source": [
    "'''maxorder = 1\n",
    "X = np.ones_like(x)\n",
    "for i in range(1, maxorder+1):\n",
    "    X = None'''\n",
    "\n",
    "X = np.hstack((np.ones_like(x2),x2,np.sin(x2)))"
   ]
  },
  {
   "cell_type": "code",
   "execution_count": 20,
   "metadata": {},
   "outputs": [
    {
     "name": "stdout",
     "output_type": "stream",
     "text": [
      "[[11.11676486]\n",
      " [-0.05262998]\n",
      " [ 0.07820933]]\n"
     ]
    }
   ],
   "source": [
    "XX = np.dot(X.T,X)\n",
    "Xt = np.dot(X.T,t)\n",
    "w = np.linalg.solve(XX,Xt)\n",
    "print(w)"
   ]
  },
  {
   "cell_type": "code",
   "execution_count": 28,
   "metadata": {},
   "outputs": [
    {
     "name": "stdout",
     "output_type": "stream",
     "text": [
      "[[ 1.          0.          0.        ]\n",
      " [ 1.          1.47368421  0.99528832]\n",
      " [ 1.          2.94736842  0.19300541]\n",
      " [ 1.          4.42105263 -0.95786089]\n",
      " [ 1.          5.89473684 -0.37875293]\n",
      " [ 1.          7.36842105  0.88441346]\n",
      " [ 1.          8.84210526  0.55025759]\n",
      " [ 1.         10.31578947 -0.77770801]\n",
      " [ 1.         11.78947368 -0.70107002]\n",
      " [ 1.         13.26315789  0.64175714]\n",
      " [ 1.         14.73684211  0.82551899]\n",
      " [ 1.         16.21052632 -0.48167325]\n",
      " [ 1.         17.68421053 -0.91892463]\n",
      " [ 1.         19.15789474  0.30347621]\n",
      " [ 1.         20.63157895  0.97777446]\n",
      " [ 1.         22.10526316 -0.11386707]\n",
      " [ 1.         23.57894737 -0.99985546]\n",
      " [ 1.         25.05263158 -0.08002399]\n",
      " [ 1.         26.52631579  0.98433728]\n",
      " [ 1.         28.          0.27090579]]\n",
      "[[11.11676486]\n",
      " [-0.05262998]\n",
      " [ 0.07820933]]\n",
      "[[11.11676486]\n",
      " [11.11704573]\n",
      " [10.97673975]\n",
      " [10.8091713 ]\n",
      " [10.77690299]\n",
      " [10.79813442]\n",
      " [10.69444035]\n",
      " [10.51302108]\n",
      " [10.44145492]\n",
      " [10.46891657]\n",
      " [10.4057285 ]\n",
      " [10.2259339 ]\n",
      " [10.1141768 ]\n",
      " [10.13221999]\n",
      " [10.10739644]\n",
      " [ 9.94445992]\n",
      " [ 9.79760739]\n",
      " [ 9.79198683]\n",
      " [ 9.79766985]\n",
      " [ 9.66431289]]\n"
     ]
    }
   ],
   "source": [
    "x_test = np.linspace(0,28,20)[:,None]\n",
    "X_test = np.hstack((np.ones_like(x_test),x_test,np.sin(x_test)))\n",
    "print(X_test)\n",
    "print(w)\n",
    "f_test = np.dot(X_test,w)\n",
    "print(f_test)"
   ]
  },
  {
   "cell_type": "code",
   "execution_count": 29,
   "metadata": {},
   "outputs": [
    {
     "data": {
      "text/plain": [
       "[<matplotlib.lines.Line2D at 0x7f9e45ddcb00>]"
      ]
     },
     "execution_count": 29,
     "metadata": {},
     "output_type": "execute_result"
    },
    {
     "data": {
      "image/png": "[encoded data removed]",
      "text/plain": [
       "<matplotlib.figure.Figure at 0x7f9e45ddc7f0>"
      ]
     },
     "metadata": {},
     "output_type": "display_data"
    }
   ],
   "source": [
    "import pylab as plt\n",
    "%matplotlib inline\n",
    "plt.plot(x_test,f_test,'b-',linewidth=2)\n",
    "plt.plot(x2,t,'ro')"
   ]
  }
 ],
 "metadata": {
  "anaconda-cloud": {},
  "kernelspec": {
   "display_name": "Python 2",
   "language": "python",
   "name": "python2"
  },
  "language_info": {
   "codemirror_mode": {
    "name": "ipython",
    "version": 3
   },
   "file_extension": ".py",
   "mimetype": "text/x-python",
   "name": "python",
   "nbconvert_exporter": "python",
   "pygments_lexer": "ipython3",
   "version": "3.5.2"
  }
 },
 "nbformat": 4,
 "nbformat_minor": 2
}

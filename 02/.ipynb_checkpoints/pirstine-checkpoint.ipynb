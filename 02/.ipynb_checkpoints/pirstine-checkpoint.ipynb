{
 "cells": [
  {
   "cell_type": "code",
   "execution_count": null,
   "metadata": {},
   "outputs": [],
   "source": [
    "from IPython.display import IFrame\n",
    "import pylab as plt\n",
    "%matplotlib inline\n",
    "import urllib\n",
    "# You only need this line if you haven't cloned the repo...if you have cloned, you'll already have the data\n",
    "# urllib.urlretrieve('https://raw.githubusercontent.com/sdrogers/fcmlcode/master/notebooks/data/olympic100m.txt', 'olympic100m.txt')\n",
    "import numpy as np\n",
    "# If you have cloned, make sure this is pointing to the correct file, maybe ../data/olympic100m.txt ?\n",
    "data = np.loadtxt('olympic100m.txt',delimiter=',')\n",
    "x = data[:,0][:,None]\n",
    "t = data[:,1][:,None]\n"
   ]
  },
  {
   "cell_type": "markdown",
   "metadata": {},
   "source": [
    "## Linear and Polynomial regression in vector and matrix format\n",
    "\n",
    "In the previous notebook we derived the values of $w_0$ and $w_1$ that minimised the loss. If we modified our model to have a quadratic term:\n",
    "\n",
    "$$ t_n = w_0 + w_1x_n + w_2x_n $$\n",
    "\n",
    "resulting in more exciting bendy lines, we could do the same process:\n",
    "\n",
    " - Multiply out the squared loss\n",
    " - Differentiate with respect to $w_0$, $w_1$ and $w_2$\n",
    " - Set to zero\n",
    " - Solve the resulting 3 simultaneous equations\n",
    " \n",
    "Life is too short for this. So, we re-pose the problem using *vectors* and *matrices*"
   ]
  },
  {
   "cell_type": "markdown",
   "metadata": {},
   "source": [
    "## Definitions\n",
    "\n",
    "We'll start with the linear model again, and define the following:\n",
    "\n",
    "We first define $\\mathbf{w},\\mathbf{x}_n$ as:\n",
    "\n",
    "$$ \\mathbf{w} = \\left[\\begin{array}{c} w_0\\\\w_1\\end{array}\\right],~~\\mathbf{x}_n = \\left[\\begin{array}{c} 1 \\\\ x_n \\end{array}\\right] $$\n",
    "\n",
    "and:\n",
    "\n",
    "$$ \\mathbf{t} = \\left[\\begin{array}{c} t_1\\\\ t_2\\\\ \\vdots\\\\ t_N \\end{array}\\right] $$\n",
    "\n",
    "and:\n",
    "\n",
    "$$ \\mathbf{X} = \\left[\\begin{array}{c} \\mathbf{x}_1^T \\\\ \\mathbf{x}_2^T \\\\ \\vdots \\\\ \\mathbf{x}_N^T \\end{array}\\right] = \\left[ \\begin{array}{cc} 1 & x_1 \\\\ 1 & x_2 \\\\ \\vdots \\\\ 1 & x_N \\end{array}\\right] $$\n",
    "\n",
    "This might all seem a bit odd (particularly the $\\mathbf{X}$), but as you see in the lecture, it means we can write:\n",
    "\n",
    "$$ \\mathbf{t} = \\mathbf{X}\\mathbf{w} $$\n",
    "\n",
    "and \n",
    "\n",
    "$$ L = \\frac{1}{N}(\\mathbf{t} - \\mathbf{X}\\mathbf{w})^T (\\mathbf{t} - \\mathbf{X}\\mathbf{w}) $$\n",
    "\n",
    "which can be differentiated with respect to $\\mathbf{w}$ (as shown in lectures and sketched below) to give the following optimal value of $\\mathbf{w}$:\n",
    "\n",
    "$$ \\mathbf{w} = \\left(\\mathbf{X}^T\\mathbf{X}\\right)^{-1}\\mathbf{X}^T\\mathbf{t} $$"
   ]
  },
  {
   "cell_type": "markdown",
   "metadata": {},
   "source": [
    "We can now construct the various objects we need..."
   ]
  },
  {
   "cell_type": "code",
   "execution_count": 4,
   "metadata": {},
   "outputs": [],
   "source": [
    "X = np.hstack((np.ones_like(x),x))\n",
    "t = t # This is already a vector!"
   ]
  },
  {
   "cell_type": "markdown",
   "metadata": {},
   "source": [
    "And compute $\\mathbf{w}$:\n",
    "Hints: \n",
    "   1. calculate $ \\mathbf{X}^T\\mathbf{X} $  and inverse it. \n",
    "   2. calculate $ \\mathbf{X}^T\\mathbf{t} $\n",
    "   \n",
    "Now you'll have what you need for calculating $\\mathbf{w}$\n"
   ]
  },
  {
   "cell_type": "code",
   "execution_count": 6,
   "metadata": {},
   "outputs": [
    {
     "name": "stdout",
     "output_type": "stream",
     "text": [
      "[[  3.64164559e+01]\n",
      " [ -1.33308857e-02]]\n"
     ]
    }
   ],
   "source": [
    "XX = ...       #Insert code here\n",
    "invXX = ...       #Insert code here\n",
    "Xt = ...       #Insert code here\n",
    "w = ...       #Insert code here\n",
    "print w"
   ]
  },
  {
   "cell_type": "markdown",
   "metadata": {},
   "source": [
    "Now we can print the results. To do so, we need to create a matrix of test points in the same format as $\\mathbf{X}$ above (people often get stuck here, see if you can tackle it!)"
   ]
  },
  {
   "cell_type": "code",
   "execution_count": 7,
   "metadata": {
    "collapsed": true
   },
   "outputs": [],
   "source": [
    "testx = ...       #Insert code here\n",
    "testX = ...       #Insert code here\n",
    "testt = ...       #Insert code here"
   ]
  },
  {
   "cell_type": "code",
   "execution_count": 8,
   "metadata": {},
   "outputs": [
    {
     "data": {
      "text/plain": [
       "[<matplotlib.lines.Line2D at 0x10ae4d210>]"
      ]
     },
     "execution_count": 8,
     "metadata": {},
     "output_type": "execute_result"
    },
    {
     "data": {
      "image/png": "[encoded data removed]",
      "text/plain": [
       "<matplotlib.figure.Figure at 0x104646f50>"
      ]
     },
     "metadata": {},
     "output_type": "display_data"
    }
   ],
   "source": [
    "plt.figure()\n",
    "plt.plot(x,t,'ro')\n",
    "plt.plot(testx,testt,'b')"
   ]
  },
  {
   "cell_type": "markdown",
   "metadata": {},
   "source": [
    "Phew again -- it looks just like the old version. So, what's the point?\n",
    "\n"
   ]
  },
  {
   "cell_type": "markdown",
   "metadata": {},
   "source": [
    "## Polynomial (non-linear) regression - HOW?\n",
    "\n",
    "Well, to add, say, an $x^2$ term we just need to add a column to $\\mathbf{X}$ (and the test version):\n",
    "\n",
    "$$ \\mathbf{x}_n = \\left[\\begin{array}{c} 1 \\\\ x_n \\\\ x_n^2 \\end{array}\\right] $$\n",
    "\n",
    "$$ \\mathbf{X} = \\left[ \\begin{array}{c} \\mathbf{x}_1 \\\\ \\mathbf{x}_2 \\\\ \\vdots \\\\ \\mathbf{x}_N\\end{array}\\right] = \\left[ \\begin{array}{ccc} 1 & x_1 & x_1^2 \\\\ 1 & x_2 & x_2^2 \\\\ \\vdots & \\vdots & \\vdots \\\\ 1 & x_N & x_N^2 \\end{array}\\right] $$\n",
    "\n",
    "The equation for $\\mathbf{w}$ doesn't change **at all**:"
   ]
  },
  {
   "cell_type": "code",
   "execution_count": 9,
   "metadata": {},
   "outputs": [
    {
     "name": "stdout",
     "output_type": "stream",
     "text": [
      "[[  4.55597856e+02]\n",
      " [ -4.43160486e-01]\n",
      " [  1.10151552e-04]]\n"
     ]
    }
   ],
   "source": [
    "X = ...       #Insert code here\n",
    "XX = ...       #Insert code here\n",
    "invXX = ...       #Insert code here\n",
    "Xt = ...       #Insert code here\n",
    "w = ...       #Insert code here\n",
    "print w"
   ]
  },
  {
   "cell_type": "code",
   "execution_count": 10,
   "metadata": {
    "collapsed": true
   },
   "outputs": [],
   "source": [
    "testx = ...       #Insert code here\n",
    "testX = ...       #Insert code here\n",
    "testt = ...       #Insert code here"
   ]
  },
  {
   "cell_type": "markdown",
   "metadata": {},
   "source": [
    "Now let's see how it changes!"
   ]
  },
  {
   "cell_type": "code",
   "execution_count": 11,
   "metadata": {},
   "outputs": [
    {
     "data": {
      "text/plain": [
       "[<matplotlib.lines.Line2D at 0x10d6ec410>]"
      ]
     },
     "execution_count": 11,
     "metadata": {},
     "output_type": "execute_result"
    },
    {
     "data": {
      "image/png": "[encoded data removed]",
      "text/plain": [
       "<matplotlib.figure.Figure at 0x10d6f94d0>"
      ]
     },
     "metadata": {},
     "output_type": "display_data"
    }
   ],
   "source": [
    "plt.figure()\n",
    "plt.plot(x,t,'ro')\n",
    "plt.plot(testx,testt,'b')"
   ]
  },
  {
   "cell_type": "markdown",
   "metadata": {},
   "source": [
    "Bendy!"
   ]
  },
  {
   "cell_type": "markdown",
   "metadata": {
    "collapsed": true
   },
   "source": [
    "### Appendix: solving linear systems"
   ]
  },
  {
   "cell_type": "markdown",
   "metadata": {},
   "source": [
    "Our expression for the optimal value of $\\mathbf{w}$ is:\n",
    "\n",
    "$$ \\mathbf{w} = \\left(\\mathbf{X}^T\\mathbf{X}\\right)^{-1}\\mathbf{X}^T\\mathbf{t} $$\n",
    "\n",
    "Above, we have computed this by writing code to compute the right hand side. This involves performing a matrix inversion *which is almost always something to avoid* (as the matrix gets bigger, this becomes time consuming and numerically innacurate).\n",
    "\n",
    "Instead, we can go back a step to this equation:\n",
    "\n",
    "$$ \\mathbf{X}^T\\mathbf{X}\\mathbf{w} = \\mathbf{X}^T \\mathbf{t} $$\n",
    "\n",
    "This is a system of linear equations (in general: $\\mathbf{A}\\mathbf{z} = \\mathbf{B}$) and we can solve this directly for $\\mathbf{w}$ using `numpy.linalg.solve`:"
   ]
  },
  {
   "cell_type": "code",
   "execution_count": 10,
   "metadata": {},
   "outputs": [],
   "source": [
    "XX = ...       #Insert code here\n",
    "Xt = ...       #Insert code here\n",
    "w = ...       #Insert code here"
   ]
  },
  {
   "cell_type": "code",
   "execution_count": 11,
   "metadata": {},
   "outputs": [
    {
     "name": "stdout",
     "output_type": "stream",
     "text": [
      "[[  4.55597856e+02]\n",
      " [ -4.43160486e-01]\n",
      " [  1.10151552e-04]]\n"
     ]
    }
   ],
   "source": [
    "print w"
   ]
  },
  {
   "cell_type": "markdown",
   "metadata": {},
   "source": [
    "For this system, it doesn't make any difference, but you don't have to get much bigger to see a difference.\n",
    "And later we can start doing polynomial regression!"
   ]
  },
  {
   "cell_type": "markdown",
   "metadata": {},
   "source": [
    "Now, how to make the code listen to you can get however order you want?\n",
    "\n",
    "Simply a loop!\n",
    "\n",
    "(but we first need to rescale the x...)"
   ]
  },
  {
   "cell_type": "code",
   "execution_count": null,
   "metadata": {
    "collapsed": true
   },
   "outputs": [],
   "source": [
    "x = (x-1896)/4"
   ]
  },
  {
   "cell_type": "code",
   "execution_count": 12,
   "metadata": {},
   "outputs": [
    {
     "name": "stdout",
     "output_type": "stream",
     "text": [
      "[[  1.00000000e+00   0.00000000e+00   0.00000000e+00]\n",
      " [  1.00000000e+00   1.00000000e+00   8.41470985e-01]\n",
      " [  1.00000000e+00   2.00000000e+00   9.09297427e-01]\n",
      " [  1.00000000e+00   2.50000000e+00   5.98472144e-01]\n",
      " [  1.00000000e+00   3.00000000e+00   1.41120008e-01]\n",
      " [  1.00000000e+00   4.00000000e+00  -7.56802495e-01]\n",
      " [  1.00000000e+00   6.00000000e+00  -2.79415498e-01]\n",
      " [  1.00000000e+00   7.00000000e+00   6.56986599e-01]\n",
      " [  1.00000000e+00   8.00000000e+00   9.89358247e-01]\n",
      " [  1.00000000e+00   9.00000000e+00   4.12118485e-01]\n",
      " [  1.00000000e+00   1.00000000e+01  -5.44021111e-01]\n",
      " [  1.00000000e+00   1.30000000e+01   4.20167037e-01]\n",
      " [  1.00000000e+00   1.40000000e+01   9.90607356e-01]\n",
      " [  1.00000000e+00   1.50000000e+01   6.50287840e-01]\n",
      " [  1.00000000e+00   1.60000000e+01  -2.87903317e-01]\n",
      " [  1.00000000e+00   1.70000000e+01  -9.61397492e-01]\n",
      " [  1.00000000e+00   1.80000000e+01  -7.50987247e-01]\n",
      " [  1.00000000e+00   1.90000000e+01   1.49877210e-01]\n",
      " [  1.00000000e+00   2.00000000e+01   9.12945251e-01]\n",
      " [  1.00000000e+00   2.10000000e+01   8.36655639e-01]\n",
      " [  1.00000000e+00   2.20000000e+01  -8.85130929e-03]\n",
      " [  1.00000000e+00   2.30000000e+01  -8.46220404e-01]\n",
      " [  1.00000000e+00   2.40000000e+01  -9.05578362e-01]\n",
      " [  1.00000000e+00   2.50000000e+01  -1.32351750e-01]\n",
      " [  1.00000000e+00   2.60000000e+01   7.62558450e-01]\n",
      " [  1.00000000e+00   2.70000000e+01   9.56375928e-01]\n",
      " [  1.00000000e+00   2.80000000e+01   2.70905788e-01]]\n"
     ]
    }
   ],
   "source": [
    "maxorder = 1       # Order of you choice?\n",
    "X = np.ones_like(x)\n",
    "for i in range(1,maxorder+1):\n",
    "    X = ...         #Insert code here\n",
    "\n",
    "X =...     #Insert code here\n",
    "print X"
   ]
  },
  {
   "cell_type": "code",
   "execution_count": 13,
   "metadata": {},
   "outputs": [
    {
     "name": "stdout",
     "output_type": "stream",
     "text": [
      "[[ 11.11676486]\n",
      " [ -0.05262998]\n",
      " [  0.07820933]]\n"
     ]
    }
   ],
   "source": [
    "w = ...      #Insert code here\n",
    "print(w)"
   ]
  },
  {
   "cell_type": "code",
   "execution_count": 14,
   "metadata": {
    "collapsed": true
   },
   "outputs": [],
   "source": [
    "x_test = ...      #Insert code here\n",
    "X_test = ...      #Insert code here\n",
    "for i in range(1,maxorder+1):\n",
    "    X_test = ...      #Insert code here\n",
    "X_test = ...      #Insert code here\n",
    "f_test = ...      #Insert code here"
   ]
  },
  {
   "cell_type": "code",
   "execution_count": 15,
   "metadata": {},
   "outputs": [
    {
     "data": {
      "text/plain": [
       "[<matplotlib.lines.Line2D at 0x10dc71210>]"
      ]
     },
     "execution_count": 15,
     "metadata": {},
     "output_type": "execute_result"
    },
    {
     "data": {
      "image/png": "[encoded data removed]",
      "text/plain": [
       "<matplotlib.figure.Figure at 0x10dcd4950>"
      ]
     },
     "metadata": {},
     "output_type": "display_data"
    }
   ],
   "source": [
    "import pylab as plt\n",
    "%matplotlib inline\n",
    "plt.plot(x_test,f_test,'b-',linewidth=2)\n",
    "plt.plot(x,t,'ro')"
   ]
  },
  {
   "cell_type": "code",
   "execution_count": null,
   "metadata": {
    "collapsed": true
   },
   "outputs": [],
   "source": []
  }
 ],
 "metadata": {
  "anaconda-cloud": {},
  "kernelspec": {
   "display_name": "Python 2",
   "language": "python",
   "name": "python2"
  },
  "language_info": {
   "codemirror_mode": {
    "name": "ipython",
    "version": 3
   },
   "file_extension": ".py",
   "mimetype": "text/x-python",
   "name": "python",
   "nbconvert_exporter": "python",
   "pygments_lexer": "ipython3",
   "version": "3.5.2"
  }
 },
 "nbformat": 4,
 "nbformat_minor": 2
}

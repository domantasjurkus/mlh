{
 "cells": [
  {
   "cell_type": "code",
   "execution_count": 4,
   "metadata": {},
   "outputs": [
    {
     "name": "stdout",
     "output_type": "stream",
     "text": [
      "[2. 1. 2. ... 2. 2. 2.]\n",
      "Predictions saved\n"
     ]
    }
   ],
   "source": [
    "import numpy as np\n",
    "import scipy\n",
    "from scipy import stats\n",
    "from sklearn.linear_model import LogisticRegression\n",
    "from sklearn.ensemble import RandomForestClassifier\n",
    "\n",
    "# Datum\n",
    "trainX = np.loadtxt('X_train.csv', delimiter=',', skiprows=1)\n",
    "traint = np.loadtxt('y_train.csv', delimiter=',', skiprows=1)\n",
    "traint = traint[:,1][:,None]-1\n",
    "testX = np.loadtxt('X_test.csv', delimiter=',', skiprows=1)\n",
    "#testX = testX[:,top_feature_indices]\n",
    "\n",
    "clf = RandomForestClassifier()\n",
    "\n",
    "#split = 600\n",
    "#X_train = trainX[:split]\n",
    "#t_train = traint[:split].ravel()\n",
    "\n",
    "model = clf.fit(X_train, t_train)\n",
    "predictions = model.predict(testX)+1\n",
    "print(predictions)\n",
    "\n",
    "# N = X_test.shape[0]\n",
    "# output = np.ones((N, 2))\n",
    "# output[:,0] = range(N)\n",
    "# output[:,1] = predictions\n",
    "# np.savetxt('class_tree.csv', output, fmt='%d', delimiter=\",\", header=\"Id,EpiOrStroma\")\n",
    "\n",
    "# Save predictions\n",
    "def save_predictions(predictions, filename=\"predictions_sklearn.csv\"):\n",
    "    N = predictions.shape[0]\n",
    "    \n",
    "    output = np.ones((N, 2))\n",
    "    output[:,0] = range(N)\n",
    "    output[:,1] = predictions.ravel()\n",
    "    np.savetxt(filename, output, fmt='%d', delimiter=\",\", header=\"Id,EpiOrStroma\")\n",
    "    print(\"Predictions saved\")\n",
    "\n",
    "save_predictions(predictions)"
   ]
  }
 ],
 "metadata": {
  "kernelspec": {
   "display_name": "Python 3",
   "language": "python",
   "name": "python3"
  },
  "language_info": {
   "codemirror_mode": {
    "name": "ipython",
    "version": 3
   },
   "file_extension": ".py",
   "mimetype": "text/x-python",
   "name": "python",
   "nbconvert_exporter": "python",
   "pygments_lexer": "ipython3",
   "version": "3.5.2"
  }
 },
 "nbformat": 4,
 "nbformat_minor": 2
}

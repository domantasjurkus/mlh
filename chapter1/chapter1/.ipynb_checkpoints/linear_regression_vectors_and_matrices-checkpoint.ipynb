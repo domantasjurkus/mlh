{
 "cells": [
  {
   "cell_type": "code",
   "execution_count": 19,
   "metadata": {
    "collapsed": true
   },
   "outputs": [],
   "source": [
    "from IPython.display import IFrame\n",
    "import pylab as plt\n",
    "%matplotlib inline\n",
    "import urllib\n",
    "# You only need this line if you haven't cloned the repo...if you have cloned, you'll already have the data\n",
    "urllib.urlretrieve('https://raw.githubusercontent.com/sdrogers/fcmlcode/master/notebooks/data/olympic100m.txt', 'olympic100m.txt')\n",
    "import numpy as np\n",
    "# If you have cloned, make sure this is pointing to the correct file, maybe ../data/olympic100m.txt ?\n",
    "data = np.loadtxt('olympic100m.txt',delimiter=',')\n",
    "x = data[:,0][:,None]\n",
    "t = data[:,1][:,None]"
   ]
  },
  {
   "cell_type": "markdown",
   "metadata": {},
   "source": [
    "## Linear regression in vector and matrix format\n",
    "\n",
    "In the previous notebook we derived the values of $w_0$ and $w_1$ that minimised the loss. If we modified our model to have a quadratic term:\n",
    "\n",
    "$$ t_n = w_0 + w_1x_n + w_2x_n $$\n",
    "\n",
    "resulting in more exciting bendy lines, we could do the same process:\n",
    "\n",
    " - Multiply out the squared loss\n",
    " - Differentiate with respect to $w_0$, $w_1$ and $w_2$\n",
    " - Set to zero\n",
    " - Solve the resulting 3 simultaneous equations\n",
    " \n",
    "Life is too short for this. So, we re-pose the problem using *vectors* and *matrices*"
   ]
  },
  {
   "cell_type": "markdown",
   "metadata": {},
   "source": [
    "## Definitions\n",
    "\n",
    "We'll start with the linear model again, and define the following:\n",
    "\n",
    "We first define $\\mathbf{w},\\mathbf{x}_n$ as:\n",
    "\n",
    "$$ \\mathbf{w} = \\left[\\begin{array}{c} w_0\\\\w_1\\end{array}\\right],~~\\mathbf{x}_n = \\left[\\begin{array}{c} 1 \\\\ x_n \\end{array}\\right] $$\n",
    "\n",
    "and:\n",
    "\n",
    "$$ \\mathbf{t} = \\left[\\begin{array}{c} t_1\\\\ t_2\\\\ \\vdots\\\\ t_N \\end{array}\\right] $$\n",
    "\n",
    "and:\n",
    "\n",
    "$$ \\mathbf{X} = \\left[\\begin{array}{c} \\mathbf{x}_1^T \\\\ \\mathbf{x}_2^T \\\\ \\vdots \\\\ \\mathbf{x}_N^T \\end{array}\\right] = \\left[ \\begin{array}{cc} 1 & x_1 \\\\ 1 & x_2 \\\\ \\vdots \\\\ 1 & x_N \\end{array}\\right] $$\n",
    "\n",
    "This might all seem a bit odd (particularly the $\\mathbf{X}$), but as you see in the lecture, it means we can write:\n",
    "\n",
    "$$ \\mathbf{t} = \\mathbf{X}\\mathbf{w} $$\n",
    "\n",
    "and \n",
    "\n",
    "$$ L = \\frac{1}{N}(\\mathbf{t} - \\mathbf{X}\\mathbf{w})^T (\\mathbf{t} - \\mathbf{X}\\mathbf{w}) $$\n",
    "\n",
    "which can be differentiated with respect to $\\mathbf{w}$ (as shown in lectures and sketched below) to give the following optimal value of $\\mathbf{w}$:\n",
    "\n",
    "$$ \\mathbf{w} = \\left(\\mathbf{X}^T\\mathbf{X}\\right)^{-1}\\mathbf{X}^T\\mathbf{t} $$"
   ]
  },
  {
   "cell_type": "code",
   "execution_count": 3,
   "metadata": {
    "collapsed": false
   },
   "outputs": [
    {
     "data": {
      "text/html": [
       "\n",
       "        <iframe\n",
       "            width=\"600\"\n",
       "            height=\"300\"\n",
       "            src=\"vec_diff.pdf\"\n",
       "            frameborder=\"0\"\n",
       "            allowfullscreen\n",
       "        ></iframe>\n",
       "        "
      ],
      "text/plain": [
       "<IPython.lib.display.IFrame at 0x1072b7750>"
      ]
     },
     "execution_count": 3,
     "metadata": {},
     "output_type": "execute_result"
    }
   ],
   "source": [
    "IFrame('vec_diff.pdf',width=600,height=300)"
   ]
  },
  {
   "cell_type": "markdown",
   "metadata": {},
   "source": [
    "We can now construct the various objects we need..."
   ]
  },
  {
   "cell_type": "code",
   "execution_count": 6,
   "metadata": {
    "collapsed": false
   },
   "outputs": [],
   "source": [
    "X = np.hstack((np.ones_like(x),x))\n",
    "t = t # This is already a vector!"
   ]
  },
  {
   "cell_type": "markdown",
   "metadata": {},
   "source": [
    "And compute $\\mathbf{w}$:"
   ]
  },
  {
   "cell_type": "code",
   "execution_count": 11,
   "metadata": {
    "collapsed": false
   },
   "outputs": [
    {
     "name": "stdout",
     "output_type": "stream",
     "text": [
      "[[  3.64164559e+01]\n",
      " [ -1.33308857e-02]]\n"
     ]
    }
   ],
   "source": [
    "XX = np.dot(X.T,X)\n",
    "invXX = np.linalg.inv(XX)\n",
    "Xt = np.dot(X.T,t)\n",
    "w = np.dot(invXX,Xt)\n",
    "print w"
   ]
  },
  {
   "cell_type": "markdown",
   "metadata": {},
   "source": [
    "Now we can print the results. To do so, we need to create a matrix of test points in the same format as $\\mathbf{X}$ above (people often get stuck here!)"
   ]
  },
  {
   "cell_type": "code",
   "execution_count": 15,
   "metadata": {
    "collapsed": true
   },
   "outputs": [],
   "source": [
    "testx = np.linspace(1896,2012,100)[:,None]\n",
    "testX = np.hstack((np.ones_like(testx),testx))\n",
    "testt = np.dot(testX,w)"
   ]
  },
  {
   "cell_type": "code",
   "execution_count": 21,
   "metadata": {
    "collapsed": false
   },
   "outputs": [
    {
     "data": {
      "text/plain": [
       "[<matplotlib.lines.Line2D at 0x108632890>]"
      ]
     },
     "execution_count": 21,
     "metadata": {},
     "output_type": "execute_result"
    },
    {
     "data": {
      "image/png": "[encoded data removed]",
      "text/plain": [
       "<matplotlib.figure.Figure at 0x108695950>"
      ]
     },
     "metadata": {},
     "output_type": "display_data"
    }
   ],
   "source": [
    "plt.figure()\n",
    "plt.plot(x,t,'ro')\n",
    "plt.plot(testx,testt,'b')"
   ]
  },
  {
   "cell_type": "markdown",
   "metadata": {},
   "source": [
    "Phew again -- it looks just like the old version. So, what's the point?\n",
    "\n",
    "Well, to add, say, an $x^2$ term we just need to add a column to $\\mathbf{X}$ (and the test version):\n",
    "\n",
    "$$ \\mathbf{x}_n = \\left[\\begin{array}{c} 1 \\\\ x_n \\\\ x_n^2 \\end{array}\\right] $$\n",
    "\n",
    "$$ \\mathbf{X} = \\left[ \\begin{array}{c} \\mathbf{x}_1 \\\\ \\mathbf{x}_2 \\\\ \\vdots \\\\ \\mathbf{x}_N\\end{array}\\right] = \\left[ \\begin{array}{ccc} 1 & x_1 & x_1^2 \\\\ 1 & x_2 & x_2^2 \\\\ \\vdots & \\vdots & \\vdots \\\\ 1 & x_N & x_N^2 \\end{array}\\right] $$\n",
    "\n",
    "The equation for $\\mathbf{w}$ doesn't change **at all**:"
   ]
  },
  {
   "cell_type": "code",
   "execution_count": 25,
   "metadata": {
    "collapsed": false
   },
   "outputs": [
    {
     "name": "stdout",
     "output_type": "stream",
     "text": [
      "[[  4.55597856e+02]\n",
      " [ -4.43160485e-01]\n",
      " [  1.10151552e-04]]\n"
     ]
    }
   ],
   "source": [
    "X = np.hstack((np.ones_like(x),x,x**2))\n",
    "XX = np.dot(X.T,X)\n",
    "invXX = np.linalg.inv(XX)\n",
    "Xt = np.dot(X.T,t)\n",
    "w = np.dot(invXX,Xt)\n",
    "print w"
   ]
  },
  {
   "cell_type": "code",
   "execution_count": 26,
   "metadata": {
    "collapsed": true
   },
   "outputs": [],
   "source": [
    "testx = np.linspace(1896,2012,100)[:,None]\n",
    "testX = np.hstack((np.ones_like(testx),testx,testx**2))\n",
    "testt = np.dot(testX,w)"
   ]
  },
  {
   "cell_type": "code",
   "execution_count": 27,
   "metadata": {
    "collapsed": false
   },
   "outputs": [
    {
     "data": {
      "text/plain": [
       "[<matplotlib.lines.Line2D at 0x108710250>]"
      ]
     },
     "execution_count": 27,
     "metadata": {},
     "output_type": "execute_result"
    },
    {
     "data": {
      "image/png": "[encoded data removed]",
      "text/plain": [
       "<matplotlib.figure.Figure at 0x1086110d0>"
      ]
     },
     "metadata": {},
     "output_type": "display_data"
    }
   ],
   "source": [
    "plt.figure()\n",
    "plt.plot(x,t,'ro')\n",
    "plt.plot(testx,testt,'b')"
   ]
  },
  {
   "cell_type": "markdown",
   "metadata": {},
   "source": [
    "Bendy!"
   ]
  },
  {
   "cell_type": "code",
   "execution_count": null,
   "metadata": {
    "collapsed": true
   },
   "outputs": [],
   "source": []
  }
 ],
 "metadata": {
  "kernelspec": {
   "display_name": "Python 2",
   "language": "python",
   "name": "python2"
  },
  "language_info": {
   "codemirror_mode": {
    "name": "ipython",
    "version": 2
   },
   "file_extension": ".py",
   "mimetype": "text/x-python",
   "name": "python",
   "nbconvert_exporter": "python",
   "pygments_lexer": "ipython2",
   "version": "2.7.10"
  }
 },
 "nbformat": 4,
 "nbformat_minor": 2
}

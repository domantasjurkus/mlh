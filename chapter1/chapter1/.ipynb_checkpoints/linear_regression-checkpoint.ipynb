{
 "cells": [
  {
   "cell_type": "markdown",
   "metadata": {},
   "source": [
    "# Linear regression\n",
    "\n",
    "\n",
    "In this notebook, we perform linear regression to try and predict the winning time of the mens 100m sprint at the 2012 Olympics, using historical winning times.\n",
    "\n",
    "Our aim is to use linear regression (one of the simplest models we might use) to demonstrate the whole Machine Learning process: defining a model, optimising the parameters of that model from data (*learning*) and then evaluating the model's performance.\n",
    "\n",
    "We start by loading the Olympic 100m men's data from the URL below and then copying the first and second columns into the numpy variables x and t."
   ]
  },
  {
   "cell_type": "code",
   "execution_count": 22,
   "metadata": {
    "collapsed": false
   },
   "outputs": [],
   "source": [
    "from IPython.display import IFrame\n",
    "import urllib\n",
    "# You only need this line if you haven't cloned the repo...if you have cloned, you'll already have the data\n",
    "urllib.urlretrieve('https://raw.githubusercontent.com/sdrogers/fcmlcode/master/notebooks/data/olympic100m.txt', 'olympic100m.txt')\n",
    "import numpy as np\n",
    "# If you have cloned, make sure this is pointing to the correct file, maybe ../data/olympic100m.txt ?\n",
    "data = np.loadtxt('olympic100m.txt',delimiter=',')\n",
    "x = data[:,0][:,None]\n",
    "t = data[:,1][:,None]"
   ]
  },
  {
   "cell_type": "markdown",
   "metadata": {},
   "source": [
    "## Plotting\n",
    "\n",
    "\n",
    "It's always useful to start with a plot of the data. I'm using matplotlib but you can use other things too.\n",
    "\n",
    "Note the *magic* command `%matplotlib inline` which tells the notebook to render the plots in the browser and not to file."
   ]
  },
  {
   "cell_type": "code",
   "execution_count": 8,
   "metadata": {
    "collapsed": false
   },
   "outputs": [
    {
     "data": {
      "text/plain": [
       "[<matplotlib.lines.Line2D at 0x10d06b110>]"
      ]
     },
     "execution_count": 8,
     "metadata": {},
     "output_type": "execute_result"
    },
    {
     "data": {
      "image/png": "[encoded data removed]",
      "text/plain": [
       "<matplotlib.figure.Figure at 0x10d236ed0>"
      ]
     },
     "metadata": {},
     "output_type": "display_data"
    }
   ],
   "source": [
    "import pylab as plt\n",
    "%matplotlib inline\n",
    "plt.plot(x,t,'ro')"
   ]
  },
  {
   "cell_type": "markdown",
   "metadata": {},
   "source": [
    "## Minismising the loss\n",
    "\n",
    "Recall that the total loss was given by:\n",
    "\n",
    "$$ L = \\frac{1}{N}\\sum_{n=1}^N (t_n - w_0 - w_1x_n)^2 $$\n",
    "\n",
    "which can be interpreted as the total squared error between the data ($t_n$) and the model's prediction ($w_0+w_1x_n$).\n",
    "\n",
    "One way of defining the **best** model is that one that minimises this error (i.e. the values of $w_0$ and $w_1$ that make $L$ as small as possible). \n",
    "\n",
    "To find a minimum we can differentiate the expression with respect to $w_0$ and $w_1$, set the resulting equations to zero and then solve (at a minimum (or maximum) the gradient must be zero).\n",
    "\n",
    "I'll do this in class, but here is a sketch of it:"
   ]
  },
  {
   "cell_type": "code",
   "execution_count": 16,
   "metadata": {
    "collapsed": false
   },
   "outputs": [
    {
     "data": {
      "text/html": [
       "\n",
       "        <iframe\n",
       "            width=\"600\"\n",
       "            height=\"300\"\n",
       "            src=\"lin_reg_diff.pdf\"\n",
       "            frameborder=\"0\"\n",
       "            allowfullscreen\n",
       "        ></iframe>\n",
       "        "
      ],
      "text/plain": [
       "<IPython.lib.display.IFrame at 0x10d3989d0>"
      ]
     },
     "execution_count": 16,
     "metadata": {},
     "output_type": "execute_result"
    }
   ],
   "source": [
    "IFrame('lin_reg_diff.pdf',width=600,height=300)"
   ]
  },
  {
   "cell_type": "markdown",
   "metadata": {},
   "source": [
    "the result is that the loss is minimised by:\n",
    "\n",
    "$$ w_1 = \\frac{\\bar{x}\\bar{t} - \\bar{xt}}{\\bar{x}\\bar{x} - \\bar{x^2}} $$\n",
    "\n",
    "and\n",
    "\n",
    "$$ w_0 = \\bar{t} - w_1\\bar{x} $$\n",
    "\n",
    "where $\\bar{z} = \\frac{1}{N}\\sum_{n=1}^N z_n$\n",
    "\n",
    "We can now compute these quantites, first computing all the mean values we need:"
   ]
  },
  {
   "cell_type": "code",
   "execution_count": 18,
   "metadata": {
    "collapsed": false
   },
   "outputs": [
    {
     "name": "stdout",
     "output_type": "stream",
     "text": [
      "1952.37037037\n",
      "10.3896296296\n",
      "3812975.55556\n",
      "20268.0681481\n"
     ]
    }
   ],
   "source": [
    "xbar = x.mean()\n",
    "tbar = t.mean()\n",
    "xxbar = np.multiply(x,x).mean()\n",
    "xtbar = np.multiply(x,t).mean()\n",
    "print(xbar)\n",
    "print(tbar)\n",
    "print(xxbar)\n",
    "print(xtbar)"
   ]
  },
  {
   "cell_type": "markdown",
   "metadata": {},
   "source": [
    "And now using these to compute $w_0$ and $w_1$:"
   ]
  },
  {
   "cell_type": "code",
   "execution_count": 19,
   "metadata": {
    "collapsed": false
   },
   "outputs": [
    {
     "name": "stdout",
     "output_type": "stream",
     "text": [
      "36.4164559025\n",
      "-0.013330885711\n"
     ]
    }
   ],
   "source": [
    "w1 = (tbar*xbar - xtbar)/(xbar*xbar - xxbar)\n",
    "w0 = tbar-w1*xbar\n",
    "print(w0)\n",
    "print(w1)"
   ]
  },
  {
   "cell_type": "markdown",
   "metadata": {},
   "source": [
    "## Plotting\n",
    "\n",
    "Now that we have $w_0$ and $w_1$ we can plot the data.\n",
    "\n",
    "Note that the way I do this below, is a bit of an overkill but, once we move to nonlinear regression (non-straight lines) we will need to do things this way..."
   ]
  },
  {
   "cell_type": "code",
   "execution_count": 20,
   "metadata": {
    "collapsed": false
   },
   "outputs": [
    {
     "data": {
      "text/plain": [
       "<matplotlib.text.Text at 0x10d40dc90>"
      ]
     },
     "execution_count": 20,
     "metadata": {},
     "output_type": "execute_result"
    },
    {
     "data": {
      "image/png": "[encoded data removed]",
      "text/plain": [
       "<matplotlib.figure.Figure at 0x10d3df0d0>"
      ]
     },
     "metadata": {},
     "output_type": "display_data"
    }
   ],
   "source": [
    "x_test = np.linspace(1896,2008,100)[:,None]\n",
    "f_test = w0+w1*x_test\n",
    "plt.plot(x_test,f_test,'b-',linewidth=2)\n",
    "plt.plot(x,t,'ro')\n",
    "plt.xlabel('Olympic year')\n",
    "plt.ylabel('Winning time (s)')"
   ]
  },
  {
   "cell_type": "markdown",
   "metadata": {},
   "source": [
    "Phew - it looks like a *good* model!"
   ]
  },
  {
   "cell_type": "markdown",
   "metadata": {},
   "source": [
    "## Predictions\n",
    "\n",
    "We can now compute the prediction at 2012 by plugging in $x=2012$ into the model:"
   ]
  },
  {
   "cell_type": "code",
   "execution_count": 21,
   "metadata": {
    "collapsed": false
   },
   "outputs": [
    {
     "name": "stdout",
     "output_type": "stream",
     "text": [
      "9.59471385205\n"
     ]
    }
   ],
   "source": [
    "win_2012 = w0+w1*2012\n",
    "print(win_2012)"
   ]
  },
  {
   "cell_type": "markdown",
   "metadata": {},
   "source": [
    "So, we predict that the winning time will be 9.5947... seconds..."
   ]
  },
  {
   "cell_type": "markdown",
   "metadata": {},
   "source": [
    "<h4>Matrix and vector form</h4>\n",
    "<p>We first defined $\\mathbf{w},\\mathbf{x}_n$ as:</p>\n",
    "$$ \\mathbf{w} = \\left[\\begin{array}{c} w_0\\\\w_1\\end{array}\\right],~~\\mathbf{x}_n = \\left[\\begin{array}{c} 1 \\\\ x_n \\end{array}\\right] $$\n",
    "and:\n",
    "$$ \\mathbf{t} = \\left[\\begin{array}{c} t_1\\\\ t_2\\\\ \\vdots\\\\ t_N \\end{array}\\right]$$\n",
    "and:\n",
    "$$ \\mathbf{X} = \\left[\\begin{array}{c} \\mathbf{x}_1^T \\\\ \\mathbf{x}_2^T \\\\ \\vdots \\\\ \\mathbf{x}_N^T \\end{array}\\right] = \\left[ \\begin{array}{cc} 1 & x_1 \\\\ 1 & x_2 \\\\ \\vdots \\\\ 1 & x_N \\end{array}\\right] $$\n",
    "The optimal value of $\\mathbf{w}$ is then given by:\n",
    "$$ \\mathbf{w} = \\left(\\mathbf{X}^T\\mathbf{X}\\right)^{-1}\\mathbf{X}^T\\mathbf{t} $$"
   ]
  },
  {
   "cell_type": "code",
   "execution_count": 7,
   "metadata": {
    "collapsed": false
   },
   "outputs": [
    {
     "name": "stdout",
     "output_type": "stream",
     "text": [
      "[[  3.64164559e+01]\n",
      " [ -1.33308857e-02]]\n"
     ]
    }
   ],
   "source": [
    "X = np.hstack((np.ones_like(x),x))\n",
    "w = np.dot(np.linalg.inv(np.dot(X.T,X)),np.dot(X.T,t))\n",
    "print(w)"
   ]
  },
  {
   "cell_type": "code",
   "execution_count": 8,
   "metadata": {
    "collapsed": false
   },
   "outputs": [
    {
     "data": {
      "text/plain": [
       "<matplotlib.text.Text at 0x104d77110>"
      ]
     },
     "execution_count": 8,
     "metadata": {},
     "output_type": "execute_result"
    },
    {
     "data": {
      "image/png": "[encoded data removed]",
      "text/plain": [
       "<matplotlib.figure.Figure at 0x104cdbcd0>"
      ]
     },
     "metadata": {},
     "output_type": "display_data"
    }
   ],
   "source": [
    "f_test = w[0]+w[1]*x_test\n",
    "plt.plot(x_test,f_test,'b-',linewidth=2)\n",
    "plt.plot(x,t,'ro')\n",
    "plt.xlabel('Olympic year')\n",
    "plt.ylabel('Wining time (s)')"
   ]
  },
  {
   "cell_type": "markdown",
   "metadata": {},
   "source": [
    "<h4>Solving linear systems</h4>\n",
    "<p>To obtaim the optimal value of $\\mathbf{w}$ we re-arranged:\n",
    "$$ \\mathbf{X}^T\\mathbf{X}\\mathbf{w} = \\mathbf{X}^T\\mathbf{t} $$\n",
    "It is actually more efficient to solve this equation than explicitly inverting $\\mathbf{X}^T\\mathbf{X}$.</p>\n",
    "<p>To do this we can use `numpy.linalg.solve` which solves equations of the form $\\mathbf{A}\\mathbf{z} = \\mathbf{B}$ for $\\mathbf{z}$.</p>"
   ]
  },
  {
   "cell_type": "code",
   "execution_count": 9,
   "metadata": {
    "collapsed": false
   },
   "outputs": [
    {
     "name": "stdout",
     "output_type": "stream",
     "text": [
      "[[  3.64164559e+01]\n",
      " [ -1.33308857e-02]]\n"
     ]
    }
   ],
   "source": [
    "w = np.linalg.solve(np.dot(X.T,X),np.dot(X.T,t))\n",
    "print(w)"
   ]
  },
  {
   "cell_type": "markdown",
   "metadata": {},
   "source": [
    "<h4>Predicting in vector and matrix notation</h4>\n",
    "<p>If we construct a test $\\mathbf{X}$ object in the same format as $\\mathbf{X}$ (we'll call it $\\mathbf{X}_{*}$), we can obtain predictions via $\\mathbf{X}^*\\mathbf{w}$."
   ]
  },
  {
   "cell_type": "code",
   "execution_count": 10,
   "metadata": {
    "collapsed": false
   },
   "outputs": [
    {
     "data": {
      "text/plain": [
       "<matplotlib.text.Text at 0x104d72050>"
      ]
     },
     "execution_count": 10,
     "metadata": {},
     "output_type": "execute_result"
    },
    {
     "data": {
      "image/png": "[encoded data removed]",
      "text/plain": [
       "<matplotlib.figure.Figure at 0x104d82e90>"
      ]
     },
     "metadata": {},
     "output_type": "display_data"
    }
   ],
   "source": [
    "X_test = np.hstack((np.ones_like(x_test),x_test))\n",
    "f_test = np.dot(X_test,w)\n",
    "plt.plot(x_test,f_test,'b-',linewidth=2)\n",
    "plt.plot(x,t,'ro')\n",
    "plt.xlabel('Olympic year')\n",
    "plt.ylabel('Wining time (s)')"
   ]
  },
  {
   "cell_type": "markdown",
   "metadata": {},
   "source": [
    "<p>Or we can make an $\\mathbf{x}_{2012}$ object as:\n",
    "$$ \\mathbf{x}_{2012} = \\left[\\begin{array}{c} 1 \\\\ 2012 \\end{array}\\right] $$\n",
    "and compute the prediction at 2012 as $\\mathbf{w}^T\\mathbf{x}_{2012}$.</p>"
   ]
  },
  {
   "cell_type": "code",
   "execution_count": 11,
   "metadata": {
    "collapsed": false
   },
   "outputs": [
    {
     "name": "stdout",
     "output_type": "stream",
     "text": [
      "[[ 9.59471385]]\n"
     ]
    }
   ],
   "source": [
    "x_2012 = np.zeros(shape=(2,1))\n",
    "x_2012[0] = 1\n",
    "x_2012[1] = 2012\n",
    "f_2012 = np.dot(w.T,x_2012)\n",
    "print(f_2012)"
   ]
  },
  {
   "cell_type": "code",
   "execution_count": 11,
   "metadata": {
    "collapsed": false
   },
   "outputs": [],
   "source": []
  }
 ],
 "metadata": {
  "kernelspec": {
   "display_name": "Python 2",
   "language": "python",
   "name": "python2"
  },
  "language_info": {
   "codemirror_mode": {
    "name": "ipython",
    "version": 2
   },
   "file_extension": ".py",
   "mimetype": "text/x-python",
   "name": "python",
   "nbconvert_exporter": "python",
   "pygments_lexer": "ipython2",
   "version": "2.7.10"
  }
 },
 "nbformat": 4,
 "nbformat_minor": 0
}

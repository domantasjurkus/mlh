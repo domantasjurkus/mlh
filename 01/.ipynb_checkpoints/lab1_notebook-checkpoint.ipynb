{
 "cells": [
  {
   "cell_type": "code",
   "execution_count": 4,
   "metadata": {},
   "outputs": [
    {
     "name": "stdout",
     "output_type": "stream",
     "text": [
      "3.5.2 (default, Nov 23 2017, 16:37:01) \n",
      "[GCC 5.4.0 20160609]\n"
     ]
    }
   ],
   "source": [
    "import sys\n",
    "print(sys.version)\n",
    "\n",
    "%matplotlib inline"
   ]
  },
  {
   "cell_type": "code",
   "execution_count": 17,
   "metadata": {},
   "outputs": [],
   "source": [
    "import numpy as np\n",
    "import matplotlib.pyplot as plt\n",
    "\n",
    "# Helper function adding legend and setting axis limits for plots\n",
    "def decorate(ax):\n",
    "    ax.set_xlim([0, 10])\n",
    "    ax.set_ylim([0, 35])\n",
    "    ax.legend()"
   ]
  },
  {
   "cell_type": "markdown",
   "metadata": {},
   "source": [
    "We are given 4 observations defined by inputs ($x$'s) and corresponding outputs ($y$'s)"
   ]
  },
  {
   "cell_type": "code",
   "execution_count": 26,
   "metadata": {},
   "outputs": [
    {
     "data": {
      "image/png": "[encoded data removed]",
      "text/plain": [
       "<matplotlib.figure.Figure at 0x7f4da96d5978>"
      ]
     },
     "metadata": {},
     "output_type": "display_data"
    }
   ],
   "source": [
    "x = np.asarray([1.3, 2.4, 5.9, 8.1])\n",
    "y = np.asarray([7.5, 8.5, 19.1, 25.2])\n",
    "\n",
    "# Plot observations\n",
    "fig, ax = plt.subplots()\n",
    "ax.plot(x, y, 'kx', label=\"Observations\")\n",
    "decorate(ax)"
   ]
  },
  {
   "cell_type": "markdown",
   "metadata": {},
   "source": [
    "We will try to define a linear model for the observations. Hence, we assume a linear relationship between $x$ and $y$ such that\n",
    "$$y = w_0\\cdot x + w_1$$\n",
    "for unknown parameters $w_0$ and $w_1$.\n",
    "\n",
    "In our intial try we use two guesses for these parameters:"
   ]
  },
  {
   "cell_type": "code",
   "execution_count": 32,
   "metadata": {},
   "outputs": [],
   "source": [
    "# Guess 1\n",
    "w0_1 = 4.1\n",
    "w1_1 = 2.7\n",
    "w1 = 4.1\n",
    "b1 = 2.7\n",
    "\n",
    "# Guess 2\n",
    "w0_2 = 0.7\n",
    "w1_2 = 3.4\n",
    "w2 = 0.7\n",
    "b2 = 3.4"
   ]
  },
  {
   "cell_type": "markdown",
   "metadata": {},
   "source": [
    "Draw the line corresponding to each parameter guess."
   ]
  },
  {
   "cell_type": "code",
   "execution_count": 44,
   "metadata": {},
   "outputs": [
    {
     "data": {
      "image/png": "[encoded data removed]",
      "text/plain": [
       "<matplotlib.figure.Figure at 0x7f4da971be48>"
      ]
     },
     "metadata": {},
     "output_type": "display_data"
    }
   ],
   "source": [
    "x_ = np.linspace(0, 10)\n",
    "line1 = w0_1*x_ + w1_1\n",
    "line2 = w0_2*x_ + w1_2\n",
    "\n",
    "fig, ax = plt.subplots()\n",
    "ax.plot(x, y, 'kx', label=\"Observations\")\n",
    "ax.plot(x_, line1, label=\"Approximation 1\")\n",
    "ax.plot(x_, line2, label=\"Approximation 2\")\n",
    "decorate(ax)"
   ]
  },
  {
   "cell_type": "markdown",
   "metadata": {},
   "source": [
    "The mean squared loss is defined as\n",
    "$$\n",
    "\\frac{1}{N}\\sum_{i=1}^N(y_i-w_0\\cdot x_i - w_1)^2\n",
    "$$\n",
    "\n",
    "Calculate the mean squared loss for each parameter guess."
   ]
  },
  {
   "cell_type": "code",
   "execution_count": 68,
   "metadata": {},
   "outputs": [
    {
     "name": "stdout",
     "output_type": "stream",
     "text": [
      "Squared loss 1: 47.99767499999995\n",
      "Squared loss 2: 103.97857500000003\n"
     ]
    }
   ],
   "source": [
    "# That's how kids do it\n",
    "#sqerr1 = np.sum(np.power([y[i] - w1*x[i] - b1 for i in range(len(x))], 2))/len(x)\n",
    "#sqerr2 = np.sum(np.power([y[i] - w2*x[i] - b2 for i in range(len(x))], 2))/len(x)\n",
    "\n",
    "sqerr1 = np.sum((y -w1*x -b1)**2)/len(x)\n",
    "sqerr2 = np.sum((y -w2*x -b2)**2)/len(x)\n",
    "\n",
    "print(\"Squared loss 1:\", sqerr1)\n",
    "print(\"Squared loss 2:\", sqerr2)"
   ]
  },
  {
   "cell_type": "markdown",
   "metadata": {},
   "source": [
    "The closed-form solution for this particular loss function is given by\n",
    "$$\n",
    "w_1 = \\frac{\\overline{xy} - \\overline{x}\\overline{y}}{\\overline{x^2}-\\overline{x}^2},\\qquad\n",
    "w_0 = \\overline{y}-w_1\\overline{x}\n",
    "$$\n",
    "See lecture notes for details.\n",
    "\n",
    "Find the solution w.r.t. the given observation using these equations."
   ]
  },
  {
   "cell_type": "code",
   "execution_count": 51,
   "metadata": {},
   "outputs": [],
   "source": [
    "x_bar = np.sum(x)/len(x)\n",
    "y_bar = np.sum(y)/len(x)\n",
    "xx_bar = np.sum(x**2)/len(x)\n",
    "xy_bar = np.sum(x*y)/len(x)\n",
    "\n",
    "w_opt = (xy_bar - x_bar*y_bar) / (xx_bar - x_bar**2)\n",
    "b_opt = y_bar - w_opt*x_bar"
   ]
  },
  {
   "cell_type": "markdown",
   "metadata": {},
   "source": [
    "Calculate mean squared loss for the new parameters and verify that it is smaller than the previous losses."
   ]
  },
  {
   "cell_type": "code",
   "execution_count": null,
   "metadata": {},
   "outputs": [],
   "source": [
    "sqerr_opt = np.sum((y -w_opt*x -b_opt)**2)/len(x)\n",
    "\n",
    "print \"Optimal squared loss: %.4f\" % sqerr_opt"
   ]
  },
  {
   "cell_type": "markdown",
   "metadata": {},
   "source": [
    "Plot the line corresponding to the optimal solution."
   ]
  },
  {
   "cell_type": "code",
   "execution_count": null,
   "metadata": {},
   "outputs": [],
   "source": [
    "line_opt = ...  # Insert answer\n",
    "\n",
    "fig, ax = plt.subplots()\n",
    "ax.plot(x, y, 'kx', label=\"Observations\")\n",
    "ax.plot(x_, line1, '--', label=\"Approximation 1\")\n",
    "ax.plot(x_, line2, '--', label=\"Approximation 2\")\n",
    "ax.plot(x_, line_opt, label=\"Optimal approximation\")\n",
    "decorate(ax)"
   ]
  }
 ],
 "metadata": {
  "kernelspec": {
   "display_name": "Python 3",
   "language": "python",
   "name": "python3"
  },
  "language_info": {
   "codemirror_mode": {
    "name": "ipython",
    "version": 3
   },
   "file_extension": ".py",
   "mimetype": "text/x-python",
   "name": "python",
   "nbconvert_exporter": "python",
   "pygments_lexer": "ipython3",
   "version": "3.5.2"
  }
 },
 "nbformat": 4,
 "nbformat_minor": 2
}

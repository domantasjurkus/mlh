{
 "cells": [
  {
   "cell_type": "code",
   "execution_count": 13,
   "metadata": {
    "scrolled": true
   },
   "outputs": [
    {
     "name": "stdout",
     "output_type": "stream",
     "text": [
      "Training loss: 32.02576725158794\n",
      "Validation loss: [34.69047087]\n"
     ]
    }
   ],
   "source": [
    "from IPython.display import IFrame\n",
    "import pylab as plt\n",
    "%matplotlib inline\n",
    "import numpy as np\n",
    "\n",
    "# Load data\n",
    "X_train = np.loadtxt(\"X_train.csv\", delimiter=',', dtype=\"int\", skiprows=1)\n",
    "y_train = np.loadtxt(\"y_train.csv\", delimiter=',', dtype=\"int\", skiprows=1, usecols=1)\n",
    "actual = y_train[:,None]\n",
    "\n",
    "def get_weights(X, t, lamb=0):\n",
    "    weight_count = X.shape[1]\n",
    "    return np.linalg.solve(np.dot(X.T,X) + lamb*np.identity(weight_count),np.dot(X.T,t))\n",
    "\n",
    "def test_regularisation(X, PRP):\n",
    "    for alpha in [0, 0.01, 0.1, 1, 10]:\n",
    "        w = get_weights(X, PRP, alpha)\n",
    "        prediction = np.dot(X,w)\n",
    "        print(\"Training loss and alpha:\", get_mse(actual, prediction), alpha)\n",
    "\n",
    "def get_mse(actual, prediction):\n",
    "    N = actual.shape[0]\n",
    "    return np.sqrt(np.sum((actual-prediction)**2)/N)\n",
    "\n",
    "def loocv(X, T, alpha=0):\n",
    "    N = X.shape[0]\n",
    "    loss = 0\n",
    "    \n",
    "    for n in range(0, N):\n",
    "        X_spliced = np.concatenate((X[:n], X[n+1:]))\n",
    "        T_spliced = np.concatenate((T[:n], T[n+1:]))\n",
    "        \n",
    "        w = get_weights(X_spliced, T_spliced, alpha)\n",
    "        \n",
    "        pred = np.dot(X[n], w)\n",
    "        diff = (pred-T[n])**2\n",
    "        loss += diff\n",
    "    \n",
    "    return np.sqrt(loss/N)\n",
    "\n",
    "MYCT = X_train[:,0][:,None]\n",
    "MMIN = X_train[:,1][:,None]\n",
    "MMAX = X_train[:,2][:,None]\n",
    "CACH = X_train[:,3][:,None]\n",
    "CHMIN = X_train[:,4][:,None]\n",
    "CHMAX = X_train[:,5][:,None]\n",
    "PRP = y_train[:,None]\n",
    "\n",
    "# Model\n",
    "X = np.hstack((\n",
    "    np.ones_like(MYCT),\n",
    "    np.log(MYCT),\n",
    "    np.log(MMIN),\n",
    "    np.log(MMAX),\n",
    "    MMAX,\n",
    "    MMIN,\n",
    "    CACH**CHMIN,\n",
    "    CHMAX * MMAX * CACH\n",
    "))\n",
    "\n",
    "w = get_weights(X, PRP)\n",
    "predictions = np.dot(X,w)\n",
    "\n",
    "#print(\"Training loss:\", get_mse(actual, predictions))\n",
    "#print(\"Validation loss:\", loocv(X, PRP))\n",
    "\n",
    "# For testing regularisation\n",
    "# Best regularising factor appears to be 0.0\n",
    "#test_regularisation(X, PRP)"
   ]
  },
  {
   "cell_type": "code",
   "execution_count": 15,
   "metadata": {},
   "outputs": [
    {
     "name": "stdout",
     "output_type": "stream",
     "text": [
      "Predictions saved\n"
     ]
    }
   ],
   "source": [
    "X_test = np.loadtxt(\"X_test.csv\", delimiter=',', dtype=\"int\", skiprows=1)\n",
    "MYCT = X_test[:,0][:,None]\n",
    "MMIN = X_test[:,1][:,None]\n",
    "MMAX = X_test[:,2][:,None]\n",
    "CACH = X_test[:,3][:,None]\n",
    "CHMIN = X_test[:,4][:,None]\n",
    "CHMAX = X_test[:,5][:,None]\n",
    "N = X_test.shape[0]\n",
    "\n",
    "X = X_test\n",
    "\n",
    "# Model\n",
    "X = np.hstack((\n",
    "    np.ones_like(MYCT),\n",
    "    np.log(MYCT),\n",
    "    np.log(MMIN),\n",
    "    np.log(MMAX),\n",
    "    MMAX,\n",
    "    MMIN,\n",
    "    CACH**CHMIN,\n",
    "    CHMAX * MMAX * CACH\n",
    "))\n",
    "\n",
    "predictions = np.dot(X, w).flatten()\n",
    "\n",
    "pred = np.ones((N, 2))\n",
    "pred[:,0] = range(N)\n",
    "pred[:,1] = predictions\n",
    "np.savetxt('predictions_linear.csv', pred, fmt='%d', delimiter=\",\", header=\"Id,PRP\", comments=\"\")\n",
    "print(\"Predictions saved\")"
   ]
  }
 ],
 "metadata": {
  "kernelspec": {
   "display_name": "Python 3",
   "language": "python",
   "name": "python3"
  },
  "language_info": {
   "codemirror_mode": {
    "name": "ipython",
    "version": 3
   },
   "file_extension": ".py",
   "mimetype": "text/x-python",
   "name": "python",
   "nbconvert_exporter": "python",
   "pygments_lexer": "ipython3",
   "version": "3.5.2"
  }
 },
 "nbformat": 4,
 "nbformat_minor": 2
}

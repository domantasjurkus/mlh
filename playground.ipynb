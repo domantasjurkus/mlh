{
 "cells": [
  {
   "cell_type": "code",
   "execution_count": 19,
   "metadata": {},
   "outputs": [
    {
     "name": "stdout",
     "output_type": "stream",
     "text": [
      "[1 0 3 2]\n"
     ]
    }
   ],
   "source": [
    "import numpy as np\n",
    "from scipy import stats\n",
    "np.random.seed(12345678)\n",
    "\n",
    "rvs1 = stats.norm.rvs(loc=10,scale=10,size=500)[:,None]\n",
    "rvs2 = stats.norm.rvs(loc=10,scale=10,size=500)[:,None]\n",
    "\n",
    "a = stats.ttest_ind(rvs1,rvs2)\n",
    "#print(a)\n",
    "\n",
    "\n",
    "a = np.array([4,1,9,7])\n",
    "#ind = np.argmax(a)\n",
    "ind = np.argsort(a)\n",
    "print(ind)\n"
   ]
  }
 ],
 "metadata": {
  "kernelspec": {
   "display_name": "Python 3",
   "language": "python",
   "name": "python3"
  },
  "language_info": {
   "codemirror_mode": {
    "name": "ipython",
    "version": 3
   },
   "file_extension": ".py",
   "mimetype": "text/x-python",
   "name": "python",
   "nbconvert_exporter": "python",
   "pygments_lexer": "ipython3",
   "version": "3.5.2"
  }
 },
 "nbformat": 4,
 "nbformat_minor": 2
}

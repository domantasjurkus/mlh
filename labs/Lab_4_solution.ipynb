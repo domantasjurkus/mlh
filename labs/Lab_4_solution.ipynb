{
 "cells": [
  {
   "cell_type": "markdown",
   "metadata": {},
   "source": [
    "# Lab 4 solution"
   ]
  },
  {
   "cell_type": "code",
   "execution_count": 1,
   "metadata": {
    "collapsed": true
   },
   "outputs": [],
   "source": [
    "import numpy as np\n",
    "\n",
    "import pylab as plt\n",
    "%matplotlib inline\n",
    "\n",
    "# If you have cloned, make sure this is pointing to the correct file, maybe ../data/olympic100m.txt ?\n",
    "data = np.loadtxt('olympic100m.txt',delimiter=',')\n",
    "x = data[:,0][:,None]\n",
    "t = data[:,1][:,None]\n",
    "\n",
    "# scale the data\n",
    "x = (x - 1896)/4.0"
   ]
  },
  {
   "cell_type": "markdown",
   "metadata": {},
   "source": [
    "Start by defining a function to create the matrix $\\mathbf{X}$ from our input vector $\\mathbf{x}$"
   ]
  },
  {
   "cell_type": "code",
   "execution_count": 2,
   "metadata": {
    "collapsed": true
   },
   "outputs": [],
   "source": [
    "def input_matrix(x, k):\n",
    "    X = np.ones_like(x)\n",
    "    for i in xrange(1, k + 1):\n",
    "        X = np.hstack((X, x**i))\n",
    "    return X"
   ]
  },
  {
   "cell_type": "markdown",
   "metadata": {},
   "source": [
    "Do the maximum likelihood estimations according to the given equations:\n",
    "\\begin{equation*}\n",
    "\\mathbf{w} = (\\mathbf{X}^T\\mathbf{X})^{-1}\\mathbf{X}^T\\mathbf{t} \\\\\n",
    "\\end{equation*}"
   ]
  },
  {
   "cell_type": "code",
   "execution_count": 3,
   "metadata": {
    "collapsed": true
   },
   "outputs": [],
   "source": [
    "# Polynomial order\n",
    "k = 1\n",
    "X = input_matrix(x, k)\n",
    "XX = np.dot(X.T, X)\n",
    "XXinv = np.linalg.inv(XX)\n",
    "Xt = np.dot(X.T, t)\n",
    "w = np.dot(XXinv, Xt)"
   ]
  },
  {
   "cell_type": "markdown",
   "metadata": {},
   "source": [
    "... and $\\sigma^2$:\n",
    "\\begin{equation*}\n",
    "\\sigma^2 = \\frac{1}{N}(\\mathbf{t} - \\mathbf{Xw})^T(\\mathbf{t} - \\mathbf{Xw})\n",
    "\\end{equation*}"
   ]
  },
  {
   "cell_type": "code",
   "execution_count": 4,
   "metadata": {
    "collapsed": true
   },
   "outputs": [],
   "source": [
    "tXw = t - np.dot(X, w)\n",
    "sigma2 = np.dot(tXw.T, tXw) / len(t)"
   ]
  },
  {
   "cell_type": "markdown",
   "metadata": {},
   "source": [
    "Plot the results (note the scaling of the input data to match the original):"
   ]
  },
  {
   "cell_type": "code",
   "execution_count": 5,
   "metadata": {},
   "outputs": [
    {
     "data": {
      "text/plain": [
       "[<matplotlib.lines.Line2D at 0x112b4c7d0>]"
      ]
     },
     "execution_count": 5,
     "metadata": {},
     "output_type": "execute_result"
    },
    {
     "data": {
      "image/png": "[encoded data removed]",
      "text/plain": [
       "<matplotlib.figure.Figure at 0x10f820350>"
      ]
     },
     "metadata": {},
     "output_type": "display_data"
    }
   ],
   "source": [
    "x_test = np.linspace(1896,2008,100)[:,None]\n",
    "x_test = (x_test - 1896) / 4.0\n",
    "\n",
    "X_test = input_matrix(x_test, k)\n",
    "t_test = np.dot(X_test, w)\n",
    "\n",
    "plt.plot(x_test,t_test,'b-',linewidth=2)\n",
    "plt.plot(x_test, t_test + np.sqrt(sigma2), 'g--')\n",
    "plt.plot(x_test, t_test - np.sqrt(sigma2), 'g--')\n",
    "plt.plot(x,t,'ro')"
   ]
  },
  {
   "cell_type": "markdown",
   "metadata": {},
   "source": [
    "Finally, we plot the predictive density for 2016. "
   ]
  },
  {
   "cell_type": "code",
   "execution_count": 6,
   "metadata": {},
   "outputs": [
    {
     "data": {
      "text/plain": [
       "[<matplotlib.lines.Line2D at 0x112c655d0>]"
      ]
     },
     "execution_count": 6,
     "metadata": {},
     "output_type": "execute_result"
    },
    {
     "data": {
      "image/png": "[encoded data removed]",
      "text/plain": [
       "<matplotlib.figure.Figure at 0x11167d510>"
      ]
     },
     "metadata": {},
     "output_type": "display_data"
    }
   ],
   "source": [
    "scaled_2016 = (2016 - 1896) / 4.0\n",
    "X_2016 = input_matrix(scaled_2016, k)\n",
    "t_2016 = np.dot(X_2016, w)\n",
    "\n",
    "def gaussian(x, mu, sig):\n",
    "    return np.exp(-(x - mu)**2 / (2 * sig**2)) / (np.sqrt(2 * np.pi * sig**2))\n",
    "\n",
    "x = np.arange(t_2016 - 2, t_2016 + 2, .01)\n",
    "plt.plot(x, gaussian(x, t_2016, np.sqrt(sigma2)).reshape(-1))"
   ]
  },
  {
   "cell_type": "code",
   "execution_count": null,
   "metadata": {
    "collapsed": true
   },
   "outputs": [],
   "source": []
  }
 ],
 "metadata": {
  "kernelspec": {
   "display_name": "Python 2",
   "language": "python",
   "name": "python2"
  },
  "language_info": {
   "codemirror_mode": {
    "name": "ipython",
    "version": 2
   },
   "file_extension": ".py",
   "mimetype": "text/x-python",
   "name": "python",
   "nbconvert_exporter": "python",
   "pygments_lexer": "ipython2",
   "version": "2.7.14"
  }
 },
 "nbformat": 4,
 "nbformat_minor": 2
}

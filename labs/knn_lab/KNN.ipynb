{
 "cells": [
  {
   "cell_type": "markdown",
   "metadata": {},
   "source": [
    "Solution to KNN lab\n",
    "==\n",
    "\n",
    "## Simon Rogers, Feb 2017"
   ]
  },
  {
   "cell_type": "code",
   "execution_count": 4,
   "metadata": {},
   "outputs": [],
   "source": [
    "import numpy as np\n",
    "import pylab as plt\n",
    "%matplotlib inline"
   ]
  },
  {
   "cell_type": "markdown",
   "metadata": {},
   "source": [
    "Load the data"
   ]
  },
  {
   "cell_type": "code",
   "execution_count": 5,
   "metadata": {},
   "outputs": [
    {
     "name": "stdout",
     "output_type": "stream",
     "text": [
      "(100, 2)\n"
     ]
    }
   ],
   "source": [
    "traindata = np.loadtxt('trainx.csv',delimiter=',')\n",
    "testdata = np.loadtxt('testx.csv',delimiter=',')\n",
    "trainX = traindata[:,:2]\n",
    "traint = traindata[:,2]\n",
    "testX = testdata[:,:2]\n",
    "testt = testdata[:,2]\n",
    "print(trainX.shape)"
   ]
  },
  {
   "cell_type": "markdown",
   "metadata": {},
   "source": [
    "Plot the training data by class"
   ]
  },
  {
   "cell_type": "code",
   "execution_count": 6,
   "metadata": {},
   "outputs": [
    {
     "data": {
      "image/png": "[encoded data removed]",
      "text/plain": [
       "<matplotlib.figure.Figure at 0x7efc0dee1a90>"
      ]
     },
     "metadata": {},
     "output_type": "display_data"
    }
   ],
   "source": [
    "classes = {0:'ro',1:'bo'}\n",
    "plt.figure()\n",
    "for cl in classes:\n",
    "    pos = np.where(traint == cl)[0]\n",
    "    plt.plot(trainX[pos,0],trainX[pos,1],classes[cl])"
   ]
  },
  {
   "cell_type": "markdown",
   "metadata": {},
   "source": [
    "Write a KNN function for a single test example (a row)"
   ]
  },
  {
   "cell_type": "code",
   "execution_count": 7,
   "metadata": {},
   "outputs": [],
   "source": [
    "# Why do we need to specify a test row?\n",
    "def knn_classifier(trainX, traint, testrow, K=3):\n",
    "    distances = ((trainX - testrow)**2).sum(axis=1)\n",
    "    dc = zip(distances,traint)\n",
    "    dc = sorted(dc,key = lambda x:x[0])\n",
    "    classes = []\n",
    "    votes = []\n",
    "    for k in range(K):\n",
    "        this_class = dc[k][1] # get the class of the kth ranked\n",
    "        if not this_class in classes:\n",
    "            classes.append(this_class)\n",
    "            votes.append(1)\n",
    "        else:\n",
    "            index = classes.index(this_class)\n",
    "            votes[index] += 1\n",
    "    best_class = classes[0]\n",
    "    best_vote = votes[0]\n",
    "    pos = 1\n",
    "    for cl in classes[1:]:\n",
    "        if votes[pos] > best_vote:\n",
    "            best_vote = votes[pos]\n",
    "            best_class = cl\n",
    "        pos += 1\n",
    "    return best_class\n",
    "    "
   ]
  },
  {
   "cell_type": "markdown",
   "metadata": {},
   "source": [
    "Test with a test point"
   ]
  },
  {
   "cell_type": "code",
   "execution_count": 8,
   "metadata": {},
   "outputs": [
    {
     "name": "stdout",
     "output_type": "stream",
     "text": [
      "1.0\n"
     ]
    }
   ],
   "source": [
    "test_index = 150\n",
    "c = knn_classifier(trainX,traint,testX[test_index,:],K=8)\n",
    "print(c)"
   ]
  },
  {
   "cell_type": "code",
   "execution_count": 20,
   "metadata": {},
   "outputs": [],
   "source": [
    "Kvals = np.arange(1,100,2)\n",
    "accuracy = []\n",
    "for k in Kvals:\n",
    "    correct = 0\n",
    "    for i,row in enumerate(testX):\n",
    "        c = knn_classifier(trainX,traint,row,K=k)\n",
    "        if c == testt[i]:\n",
    "            correct += 1\n",
    "    accuracy.append(1.0*correct / (1.0*len(testX)))\n",
    "    "
   ]
  },
  {
   "cell_type": "markdown",
   "metadata": {},
   "source": [
    "Plot the results"
   ]
  },
  {
   "cell_type": "code",
   "execution_count": 16,
   "metadata": {},
   "outputs": [
    {
     "data": {
      "text/plain": [
       "[<matplotlib.lines.Line2D at 0x7f787c4e7dd8>]"
      ]
     },
     "execution_count": 16,
     "metadata": {},
     "output_type": "execute_result"
    },
    {
     "data": {
      "image/png": "[encoded data removed]",
      "text/plain": [
       "<matplotlib.figure.Figure at 0x7f787c4bc748>"
      ]
     },
     "metadata": {},
     "output_type": "display_data"
    }
   ],
   "source": [
    "plt.figure()\n",
    "plt.plot(Kvals,accuracy)"
   ]
  }
 ],
 "metadata": {
  "kernelspec": {
   "display_name": "Python 2",
   "language": "python",
   "name": "python2"
  },
  "language_info": {
   "codemirror_mode": {
    "name": "ipython",
    "version": 3
   },
   "file_extension": ".py",
   "mimetype": "text/x-python",
   "name": "python",
   "nbconvert_exporter": "python",
   "pygments_lexer": "ipython3",
   "version": "3.5.2"
  }
 },
 "nbformat": 4,
 "nbformat_minor": 2
}
